{
 "cells": [
  {
   "cell_type": "code",
   "execution_count": 1,
   "id": "b87ad19f-f0ec-41c6-a073-1b6419f163c8",
   "metadata": {},
   "outputs": [],
   "source": [
    "import matplotlib.pyplot as plt\n",
    "import seaborn as sns\n",
    "import numpy as np\n",
    "from scipy import stats\n",
    "import pandas as pd\n",
    "import nelpy as nel\n",
    "from scipy.signal import find_peaks\n",
    "from reactivation import AssemblyReact, load_cell_metrics, load_epochs, load_ripples_events, load_SleepState_states, load_spikes, event_triggered_average_fast"
   ]
  },
  {
   "cell_type": "markdown",
   "id": "aee58987-a89f-4446-a1ab-10ca90e30dbf",
   "metadata": {},
   "source": [
    "## A015_day12"
   ]
  },
  {
   "cell_type": "markdown",
   "id": "f7a5ea2b-1576-411f-b0c9-a4b290cb2382",
   "metadata": {},
   "source": [
    "### Loading"
   ]
  },
  {
   "cell_type": "code",
   "execution_count": 4,
   "id": "b050e339-f9f3-46bf-9a4e-38e261c6c365",
   "metadata": {},
   "outputs": [],
   "source": [
    "project_path='D:/Research Topic/tristan/step10_olivadata'\n",
    "\n",
    "mice_name_A015_day12 = 'A015_day12'\n",
    "\n",
    "assembly_react_A015_day12 = AssemblyReact(\n",
    "    project_path=project_path,\n",
    "    mice_name= mice_name_A015_day12,\n",
    "    brainRegion=\"CA2-CA3\",\n",
    "    putativeCellType=\"pyr\",\n",
    "    z_mat_dt=0.025,\n",
    "    )\n",
    "\n",
    "#swr= load_ripples_events('D:/Research Topic/tristan/step10_olivadata', 'A015_day12')"
   ]
  },
  {
   "cell_type": "code",
   "execution_count": 5,
   "id": "fcf2077e-e266-4ae6-bb60-e2d0453e45d3",
   "metadata": {},
   "outputs": [
    {
     "name": "stderr",
     "output_type": "stream",
     "text": [
      "C:\\Users\\ASUS\\anaconda3\\lib\\site-packages\\nelpy\\core\\_eventarray.py:996: UserWarning: ignoring events outside of eventarray support\n"
     ]
    },
    {
     "data": {
      "text/plain": [
       "<AssemblyReact: 20 units> of length 4:12:53:383 hours"
      ]
     },
     "execution_count": 5,
     "metadata": {},
     "output_type": "execute_result"
    }
   ],
   "source": [
    "assembly_react_A015_day12.load_data()\n",
    "assembly_react_A015_day12"
   ]
  },
  {
   "cell_type": "code",
   "execution_count": 6,
   "id": "d9bf8aab-93a0-46da-bfa8-62ef9163e5c4",
   "metadata": {},
   "outputs": [],
   "source": [
    "assembly_react_A015_day12.restrict_epochs_to_pre_task_post()"
   ]
  },
  {
   "cell_type": "markdown",
   "id": "d370ecab-3833-450e-8377-ddfad965e856",
   "metadata": {},
   "source": [
    "### Peak Assembly reactivation A015_day12"
   ]
  },
  {
   "cell_type": "code",
   "execution_count": 8,
   "id": "d37074dd-0319-4791-aca7-e8c1948d482a",
   "metadata": {},
   "outputs": [
    {
     "data": {
      "text/html": [
       "<div>\n",
       "<style scoped>\n",
       "    .dataframe tbody tr th:only-of-type {\n",
       "        vertical-align: middle;\n",
       "    }\n",
       "\n",
       "    .dataframe tbody tr th {\n",
       "        vertical-align: top;\n",
       "    }\n",
       "\n",
       "    .dataframe thead th {\n",
       "        text-align: right;\n",
       "    }\n",
       "</style>\n",
       "<table border=\"1\" class=\"dataframe\">\n",
       "  <thead>\n",
       "    <tr style=\"text-align: right;\">\n",
       "      <th></th>\n",
       "      <th>Cage_or_Maze</th>\n",
       "      <th>Start_Time</th>\n",
       "      <th>End_Time</th>\n",
       "    </tr>\n",
       "  </thead>\n",
       "  <tbody>\n",
       "    <tr>\n",
       "      <th>4</th>\n",
       "      <td>rest_pre</td>\n",
       "      <td>7968.70</td>\n",
       "      <td>10526.90</td>\n",
       "    </tr>\n",
       "    <tr>\n",
       "      <th>5</th>\n",
       "      <td>2novel_exposure</td>\n",
       "      <td>10526.90</td>\n",
       "      <td>10816.55</td>\n",
       "    </tr>\n",
       "    <tr>\n",
       "      <th>7</th>\n",
       "      <td>rest_post2</td>\n",
       "      <td>11100.15</td>\n",
       "      <td>14932.15</td>\n",
       "    </tr>\n",
       "  </tbody>\n",
       "</table>\n",
       "</div>"
      ],
      "text/plain": [
       "      Cage_or_Maze  Start_Time  End_Time\n",
       "4         rest_pre     7968.70  10526.90\n",
       "5  2novel_exposure    10526.90  10816.55\n",
       "7       rest_post2    11100.15  14932.15"
      ]
     },
     "execution_count": 8,
     "metadata": {},
     "output_type": "execute_result"
    }
   ],
   "source": [
    "assembly_react_A015_day12.epoch_df"
   ]
  },
  {
   "cell_type": "code",
   "execution_count": 9,
   "id": "c0480ed6-386d-41a2-9ecd-1b2a1f5646dc",
   "metadata": {},
   "outputs": [
    {
     "data": {
      "text/plain": [
       "<SpikeTrainArray at 0x21b87d87670: 20 units (9 segments)> at 30000 Hz"
      ]
     },
     "execution_count": 9,
     "metadata": {},
     "output_type": "execute_result"
    }
   ],
   "source": [
    "assembly_react_A015_day12.st"
   ]
  },
  {
   "cell_type": "code",
   "execution_count": 10,
   "id": "2a74bcb3-234e-46b5-bf28-29b8753424df",
   "metadata": {},
   "outputs": [],
   "source": [
    "#assembly_react_A015_day12.cell_metrics"
   ]
  },
  {
   "cell_type": "code",
   "execution_count": 11,
   "id": "700fe206-f484-4d8e-9e23-89165890af91",
   "metadata": {},
   "outputs": [],
   "source": [
    "state_dict_A015_day12 = load_SleepState_states(project_path, mice_name_A015_day12)\n",
    "\n",
    "wake_epoch = nel.EpochArray(\n",
    "    state_dict_A015_day12[\"WAKEepisode\"],\n",
    ")\n",
    "\n",
    "nrem_epochs = nel.EpochArray(\n",
    "    state_dict_A015_day12[\"NREMepisode\"],\n",
    ")\n"
   ]
  },
  {
   "cell_type": "code",
   "execution_count": 12,
   "id": "d8dc4e67-72ab-4296-a7e2-5be180e6c3fe",
   "metadata": {},
   "outputs": [
    {
     "data": {
      "image/png": "[encoded data removed]",
      "text/plain": [
       "<Figure size 300x100 with 2 Axes>"
      ]
     },
     "metadata": {},
     "output_type": "display_data"
    }
   ],
   "source": [
    "assembly_react_A015_day12.get_weights(epoch= assembly_react_A015_day12.epochs[1] & wake_epoch)\n",
    "assembly_react_A015_day12.plot()\n",
    "plt.show()"
   ]
  },
  {
   "cell_type": "code",
   "execution_count": 13,
   "id": "fe2b0025-1263-4209-91dd-10f72400137e",
   "metadata": {},
   "outputs": [
    {
     "name": "stderr",
     "output_type": "stream",
     "text": [
      "C:\\Users\\ASUS\\anaconda3\\lib\\site-packages\\nelpy\\core\\_analogsignalarray.py:420: UserWarning: creating support from abscissa_vals and sampling rate, fs!\n",
      "C:\\Users\\ASUS\\anaconda3\\lib\\site-packages\\nelpy\\utils.py:842: UserWarning: some steps in the data are smaller than the requested step size.\n"
     ]
    },
    {
     "data": {
      "text/plain": [
       "<AnalogSignalArray at 0x21b890e2740: 2 signals (2 segments)> for a total of 19:57 minutes"
      ]
     },
     "execution_count": 13,
     "metadata": {},
     "output_type": "execute_result"
    }
   ],
   "source": [
    "assembly_act_pre_A015_day12 = assembly_react_A015_day12.get_assembly_act(assembly_react_A015_day12.epochs[0] & nrem_epochs) \n",
    "assembly_act_pre_A015_day12"
   ]
  },
  {
   "cell_type": "code",
   "execution_count": 14,
   "id": "30c3606c-b6da-4cb6-a531-2f236ae7d807",
   "metadata": {},
   "outputs": [
    {
     "name": "stderr",
     "output_type": "stream",
     "text": [
      "C:\\Users\\ASUS\\anaconda3\\lib\\site-packages\\nelpy\\core\\_analogsignalarray.py:420: UserWarning: creating support from abscissa_vals and sampling rate, fs!\n",
      "C:\\Users\\ASUS\\anaconda3\\lib\\site-packages\\nelpy\\utils.py:842: UserWarning: some steps in the data are smaller than the requested step size.\n"
     ]
    },
    {
     "data": {
      "text/plain": [
       "<AnalogSignalArray at 0x21b87d8c6d0: 2 signals (3 segments)> for a total of 27:27 minutes"
      ]
     },
     "execution_count": 14,
     "metadata": {},
     "output_type": "execute_result"
    }
   ],
   "source": [
    "assembly_act_post_A015_day12 = assembly_react_A015_day12.get_assembly_act(assembly_react_A015_day12.epochs[2] & nrem_epochs) \n",
    "assembly_act_post_A015_day12"
   ]
  },
  {
   "cell_type": "code",
   "execution_count": 15,
   "id": "30bf93b2-2335-4b8d-b9e8-ed3886206d70",
   "metadata": {},
   "outputs": [
    {
     "data": {
      "text/plain": [
       "array([[ 0.24592017,  0.24592017,  0.24592017, ...,  0.24392171,\n",
       "        -0.56101031,  0.69878617],\n",
       "       [ 0.14383068,  0.14383068,  0.14383068, ...,  0.1433301 ,\n",
       "        -0.05917993, -1.696219  ]])"
      ]
     },
     "execution_count": 15,
     "metadata": {},
     "output_type": "execute_result"
    }
   ],
   "source": [
    "assembly_act_pre_A015_day12.data"
   ]
  },
  {
   "cell_type": "code",
   "execution_count": 16,
   "id": "9671c044-d5ad-48b9-bfb3-d8f2ad8fcb0a",
   "metadata": {},
   "outputs": [
    {
     "data": {
      "text/plain": [
       "array([[ 0.24094165,  0.24186881,  0.6111287 , ...,  0.23909864,\n",
       "         0.23820605, -1.31201317],\n",
       "       [ 0.17281433,  0.16901856, -1.35248722, ...,  0.17229851,\n",
       "         0.16948211, -0.73435611]])"
      ]
     },
     "execution_count": 16,
     "metadata": {},
     "output_type": "execute_result"
    }
   ],
   "source": [
    "assembly_act_post_A015_day12.data"
   ]
  },
  {
   "cell_type": "code",
   "execution_count": 17,
   "id": "3e715b3f-ed9e-4b7e-8b8d-c394545adf3d",
   "metadata": {},
   "outputs": [
    {
     "data": {
      "text/plain": [
       "array([[0., 0., 0., ..., 0., 0., 0.],\n",
       "       [0., 0., 0., ..., 0., 0., 0.]])"
      ]
     },
     "execution_count": 17,
     "metadata": {},
     "output_type": "execute_result"
    }
   ],
   "source": [
    "act_pre_sleep_above_A015_day12 = np.where(assembly_act_pre_A015_day12.data[:] > 5, assembly_act_pre_A015_day12.data[:], 0)\n",
    "act_pre_sleep_above_A015_day12"
   ]
  },
  {
   "cell_type": "code",
   "execution_count": 18,
   "id": "8cc938f5-2928-448d-9ff0-e56299b36978",
   "metadata": {},
   "outputs": [
    {
     "data": {
      "text/plain": [
       "array([0., 0., 0., ..., 0., 0., 0.])"
      ]
     },
     "execution_count": 18,
     "metadata": {},
     "output_type": "execute_result"
    }
   ],
   "source": [
    "act_post_sleep_above_A015_day12 = np.where(assembly_act_post_A015_day12.data[:] > 5, assembly_act_post_A015_day12.data[:], 0)\n",
    "act_post_sleep_above_A015_day12[0]"
   ]
  },
  {
   "cell_type": "code",
   "execution_count": 19,
   "id": "50391993-64f4-4feb-bc70-1a10899f2cf8",
   "metadata": {},
   "outputs": [
    {
     "data": {
      "text/plain": [
       "array([[0., 0., 0., ..., 0., 0., 0.],\n",
       "       [0., 0., 0., ..., 0., 0., 0.]])"
      ]
     },
     "execution_count": 19,
     "metadata": {},
     "output_type": "execute_result"
    }
   ],
   "source": [
    "act_pre_sleep_above_A015_day12"
   ]
  },
  {
   "cell_type": "code",
   "execution_count": 20,
   "id": "1c2bee5f-db91-4e9f-bdb0-140acb5645b2",
   "metadata": {},
   "outputs": [
    {
     "name": "stdout",
     "output_type": "stream",
     "text": [
      "Reactivation Rates: [0.06947948396189098, 0.08059156745836411]\n"
     ]
    }
   ],
   "source": [
    "act_pre_sleep_above_A015_day12_test = act_pre_sleep_above_A015_day12\n",
    "assembly_act_post_A015_day12_test = act_post_sleep_above_A015_day12\n",
    "sampling_rate = 1  # Replace with actual rate\n",
    "\n",
    "# Define the duration of each bin in seconds\n",
    "bin_duration = 60\n",
    "\n",
    "def compute_peak_averages(data):\n",
    "    bin_size = bin_duration * sampling_rate\n",
    "    bins = np.array_split(data, len(data) // bin_size)\n",
    "    bin_means = [np.mean(bin_data) for bin_data in bins]\n",
    "    return np.array(bin_means)\n",
    "    \n",
    "\n",
    "reactivation_rates = []\n",
    "\n",
    "for pre_sleep_data, post_sleep_data in zip(act_pre_sleep_above_A015_day12_test, assembly_act_post_A015_day12_test):\n",
    "    # Compute peak averages for the current pair of sessions\n",
    "    pre_sleep_peak_averages = compute_peak_averages(pre_sleep_data)\n",
    "    post_sleep_peak_averages = compute_peak_averages(post_sleep_data)\n",
    "    \n",
    "    # Average reactivation strengths\n",
    "    avg_pre_sleep_reactivation = np.mean(pre_sleep_peak_averages)\n",
    "    avg_post_sleep_reactivation = np.mean(post_sleep_peak_averages)\n",
    "    \n",
    "    # Overall average peak reactivation strength for normalization\n",
    "    all_peak_averages = np.concatenate((pre_sleep_peak_averages, post_sleep_peak_averages))\n",
    "    overall_average_reactivation = np.mean(all_peak_averages)\n",
    "    \n",
    "    # Calculate the reactivation strength difference and normalize\n",
    "    reactivation_strength_difference = (avg_post_sleep_reactivation - avg_pre_sleep_reactivation)\n",
    "    \n",
    "    # Avoid division by zero if there are no peaks detected in both sessions\n",
    "    if overall_average_reactivation != 0:\n",
    "        normalized_reactivation_strength_difference = reactivation_strength_difference / overall_average_reactivation\n",
    "    else:\n",
    "        normalized_reactivation_strength_difference = 0\n",
    "    \n",
    "    reactivation_rates.append(normalized_reactivation_strength_difference)\n",
    "\n",
    "# The reactivation_rates list now contains the reactivation rate for each pair of pre-sleep and post-sleep arrays\n",
    "print(\"Reactivation Rates:\", reactivation_rates)"
   ]
  },
  {
   "cell_type": "code",
   "execution_count": 21,
   "id": "5728d898-4268-4f8f-b84b-f56d7799b9f8",
   "metadata": {},
   "outputs": [
    {
     "data": {
      "text/plain": [
       "0.06947948396189098"
      ]
     },
     "execution_count": 21,
     "metadata": {},
     "output_type": "execute_result"
    }
   ],
   "source": [
    "Peak_reactivation_Joint_A015_day12 = reactivation_rates[0]\n",
    "Peak_reactivation_Joint_A015_day12"
   ]
  },
  {
   "cell_type": "code",
   "execution_count": null,
   "id": "e8ebe982-4f64-46ce-98df-259b1aafe110",
   "metadata": {},
   "outputs": [],
   "source": []
  },
  {
   "cell_type": "code",
   "execution_count": null,
   "id": "37792a56-b4b5-4ffc-bccd-4d7beb9bd691",
   "metadata": {},
   "outputs": [],
   "source": []
  },
  {
   "cell_type": "markdown",
   "id": "7f26c999-5b60-4d42-a39f-5e74540c9de0",
   "metadata": {},
   "source": [
    "## A015_day8"
   ]
  },
  {
   "cell_type": "markdown",
   "id": "9c77e6f3-4001-4017-bd14-bdd5a2388466",
   "metadata": {},
   "source": [
    "### Loading data"
   ]
  },
  {
   "cell_type": "code",
   "execution_count": 24,
   "id": "a51388bf-5404-4608-8600-fb7cd60b58c1",
   "metadata": {},
   "outputs": [],
   "source": [
    "project_path='D:/Research Topic/tristan/step10_olivadata'\n",
    "\n",
    "mice_name = 'A015_day8'\n",
    "\n",
    "assembly_react_A015_day8 = AssemblyReact(\n",
    "    project_path=project_path,\n",
    "    mice_name= mice_name,\n",
    "    brainRegion=\"CA2-CA3\",\n",
    "    putativeCellType=\"pyr\",\n",
    "    z_mat_dt=0.025,\n",
    "    )\n",
    "\n",
    "#swr= load_ripples_events('D:/Research Topic/tristan/step10_olivadata', 'A015_day8')"
   ]
  },
  {
   "cell_type": "code",
   "execution_count": 25,
   "id": "6ddbd12d-2d4d-43f4-9bce-e8f8de50dae0",
   "metadata": {},
   "outputs": [
    {
     "name": "stderr",
     "output_type": "stream",
     "text": [
      "C:\\Users\\ASUS\\anaconda3\\lib\\site-packages\\nelpy\\core\\_eventarray.py:996: UserWarning: ignoring events outside of eventarray support\n"
     ]
    },
    {
     "data": {
      "text/plain": [
       "<AssemblyReact: 17 units> of length 2:14:32:983 hours"
      ]
     },
     "execution_count": 25,
     "metadata": {},
     "output_type": "execute_result"
    }
   ],
   "source": [
    "assembly_react_A015_day8.load_data()\n",
    "assembly_react_A015_day8"
   ]
  },
  {
   "cell_type": "code",
   "execution_count": 26,
   "id": "b7b0b75f-d47e-4ede-bada-e9ebf07e6acb",
   "metadata": {},
   "outputs": [],
   "source": [
    "assembly_react_A015_day8.restrict_epochs_to_pre_task_post()"
   ]
  },
  {
   "cell_type": "code",
   "execution_count": 27,
   "id": "3e033c14-47b8-44bc-a1c3-5d24900106af",
   "metadata": {},
   "outputs": [
    {
     "data": {
      "text/html": [
       "<div>\n",
       "<style scoped>\n",
       "    .dataframe tbody tr th:only-of-type {\n",
       "        vertical-align: middle;\n",
       "    }\n",
       "\n",
       "    .dataframe tbody tr th {\n",
       "        vertical-align: top;\n",
       "    }\n",
       "\n",
       "    .dataframe thead th {\n",
       "        text-align: right;\n",
       "    }\n",
       "</style>\n",
       "<table border=\"1\" class=\"dataframe\">\n",
       "  <thead>\n",
       "    <tr style=\"text-align: right;\">\n",
       "      <th></th>\n",
       "      <th>Cage_or_Maze</th>\n",
       "      <th>Start_Time</th>\n",
       "      <th>End_Time</th>\n",
       "    </tr>\n",
       "  </thead>\n",
       "  <tbody>\n",
       "    <tr>\n",
       "      <th>4</th>\n",
       "      <td>rest_pre</td>\n",
       "      <td>2315.666667</td>\n",
       "      <td>4884.883333</td>\n",
       "    </tr>\n",
       "    <tr>\n",
       "      <th>5</th>\n",
       "      <td>2novel_exposure</td>\n",
       "      <td>4884.883333</td>\n",
       "      <td>5105.450000</td>\n",
       "    </tr>\n",
       "    <tr>\n",
       "      <th>7</th>\n",
       "      <td>rest_post2</td>\n",
       "      <td>5295.633333</td>\n",
       "      <td>7846.250000</td>\n",
       "    </tr>\n",
       "  </tbody>\n",
       "</table>\n",
       "</div>"
      ],
      "text/plain": [
       "      Cage_or_Maze   Start_Time     End_Time\n",
       "4         rest_pre  2315.666667  4884.883333\n",
       "5  2novel_exposure  4884.883333  5105.450000\n",
       "7       rest_post2  5295.633333  7846.250000"
      ]
     },
     "execution_count": 27,
     "metadata": {},
     "output_type": "execute_result"
    }
   ],
   "source": [
    "assembly_react_A015_day8.epoch_df"
   ]
  },
  {
   "cell_type": "code",
   "execution_count": 28,
   "id": "603d6c2b-7037-462c-acea-c48c18492986",
   "metadata": {},
   "outputs": [
    {
     "data": {
      "text/plain": [
       "<SpikeTrainArray at 0x21b8911f190: 17 units (9 segments)> at 30000 Hz"
      ]
     },
     "execution_count": 28,
     "metadata": {},
     "output_type": "execute_result"
    }
   ],
   "source": [
    "assembly_react_A015_day8.st"
   ]
  },
  {
   "cell_type": "code",
   "execution_count": 29,
   "id": "11b94757-cf0c-4c54-a25e-59a782f2edb7",
   "metadata": {},
   "outputs": [
    {
     "data": {
      "text/html": [
       "<div>\n",
       "<style scoped>\n",
       "    .dataframe tbody tr th:only-of-type {\n",
       "        vertical-align: middle;\n",
       "    }\n",
       "\n",
       "    .dataframe tbody tr th {\n",
       "        vertical-align: top;\n",
       "    }\n",
       "\n",
       "    .dataframe thead th {\n",
       "        text-align: right;\n",
       "    }\n",
       "</style>\n",
       "<table border=\"1\" class=\"dataframe\">\n",
       "  <thead>\n",
       "    <tr style=\"text-align: right;\">\n",
       "      <th></th>\n",
       "      <th>Type</th>\n",
       "      <th>Region</th>\n",
       "      <th>Modulation</th>\n",
       "      <th>CluID</th>\n",
       "    </tr>\n",
       "  </thead>\n",
       "  <tbody>\n",
       "    <tr>\n",
       "      <th>8</th>\n",
       "      <td>pyr</td>\n",
       "      <td>CA2</td>\n",
       "      <td>positive</td>\n",
       "      <td>8</td>\n",
       "    </tr>\n",
       "    <tr>\n",
       "      <th>13</th>\n",
       "      <td>pyr</td>\n",
       "      <td>CA2</td>\n",
       "      <td>positive</td>\n",
       "      <td>13</td>\n",
       "    </tr>\n",
       "    <tr>\n",
       "      <th>16</th>\n",
       "      <td>pyr</td>\n",
       "      <td>CA2</td>\n",
       "      <td>positive</td>\n",
       "      <td>16</td>\n",
       "    </tr>\n",
       "    <tr>\n",
       "      <th>17</th>\n",
       "      <td>pyr</td>\n",
       "      <td>CA2</td>\n",
       "      <td>positive</td>\n",
       "      <td>17</td>\n",
       "    </tr>\n",
       "    <tr>\n",
       "      <th>20</th>\n",
       "      <td>pyr</td>\n",
       "      <td>CA2</td>\n",
       "      <td>positive</td>\n",
       "      <td>20</td>\n",
       "    </tr>\n",
       "    <tr>\n",
       "      <th>0</th>\n",
       "      <td>pyr</td>\n",
       "      <td>CA3</td>\n",
       "      <td>positive</td>\n",
       "      <td>0</td>\n",
       "    </tr>\n",
       "    <tr>\n",
       "      <th>1</th>\n",
       "      <td>pyr</td>\n",
       "      <td>CA3</td>\n",
       "      <td>positive</td>\n",
       "      <td>1</td>\n",
       "    </tr>\n",
       "    <tr>\n",
       "      <th>4</th>\n",
       "      <td>pyr</td>\n",
       "      <td>CA3</td>\n",
       "      <td>positive</td>\n",
       "      <td>4</td>\n",
       "    </tr>\n",
       "    <tr>\n",
       "      <th>5</th>\n",
       "      <td>pyr</td>\n",
       "      <td>CA3</td>\n",
       "      <td>positive</td>\n",
       "      <td>5</td>\n",
       "    </tr>\n",
       "    <tr>\n",
       "      <th>6</th>\n",
       "      <td>pyr</td>\n",
       "      <td>CA3</td>\n",
       "      <td>negative</td>\n",
       "      <td>6</td>\n",
       "    </tr>\n",
       "    <tr>\n",
       "      <th>9</th>\n",
       "      <td>pyr</td>\n",
       "      <td>CA3</td>\n",
       "      <td>positive</td>\n",
       "      <td>9</td>\n",
       "    </tr>\n",
       "    <tr>\n",
       "      <th>10</th>\n",
       "      <td>pyr</td>\n",
       "      <td>CA3</td>\n",
       "      <td>positive</td>\n",
       "      <td>10</td>\n",
       "    </tr>\n",
       "    <tr>\n",
       "      <th>11</th>\n",
       "      <td>pyr</td>\n",
       "      <td>CA3</td>\n",
       "      <td>positive</td>\n",
       "      <td>11</td>\n",
       "    </tr>\n",
       "    <tr>\n",
       "      <th>12</th>\n",
       "      <td>pyr</td>\n",
       "      <td>CA3</td>\n",
       "      <td>positive</td>\n",
       "      <td>12</td>\n",
       "    </tr>\n",
       "    <tr>\n",
       "      <th>14</th>\n",
       "      <td>pyr</td>\n",
       "      <td>CA3</td>\n",
       "      <td>positive</td>\n",
       "      <td>14</td>\n",
       "    </tr>\n",
       "    <tr>\n",
       "      <th>18</th>\n",
       "      <td>pyr</td>\n",
       "      <td>CA3</td>\n",
       "      <td>positive</td>\n",
       "      <td>18</td>\n",
       "    </tr>\n",
       "    <tr>\n",
       "      <th>19</th>\n",
       "      <td>pyr</td>\n",
       "      <td>CA3</td>\n",
       "      <td>positive</td>\n",
       "      <td>19</td>\n",
       "    </tr>\n",
       "  </tbody>\n",
       "</table>\n",
       "</div>"
      ],
      "text/plain": [
       "   Type Region Modulation  CluID\n",
       "8   pyr    CA2   positive      8\n",
       "13  pyr    CA2   positive     13\n",
       "16  pyr    CA2   positive     16\n",
       "17  pyr    CA2   positive     17\n",
       "20  pyr    CA2   positive     20\n",
       "0   pyr    CA3   positive      0\n",
       "1   pyr    CA3   positive      1\n",
       "4   pyr    CA3   positive      4\n",
       "5   pyr    CA3   positive      5\n",
       "6   pyr    CA3   negative      6\n",
       "9   pyr    CA3   positive      9\n",
       "10  pyr    CA3   positive     10\n",
       "11  pyr    CA3   positive     11\n",
       "12  pyr    CA3   positive     12\n",
       "14  pyr    CA3   positive     14\n",
       "18  pyr    CA3   positive     18\n",
       "19  pyr    CA3   positive     19"
      ]
     },
     "execution_count": 29,
     "metadata": {},
     "output_type": "execute_result"
    }
   ],
   "source": [
    "assembly_react_A015_day8.cell_metrics"
   ]
  },
  {
   "cell_type": "code",
   "execution_count": 30,
   "id": "f3412cce-310c-4639-b997-04038e7f71ae",
   "metadata": {},
   "outputs": [],
   "source": [
    "state_dict_A015_day8 = load_SleepState_states(project_path, mice_name)\n",
    "\n",
    "wake_epoch = nel.EpochArray(\n",
    "    state_dict_A015_day8[\"WAKEstate\"],\n",
    ")\n",
    "\n",
    "nrem_epochs = nel.EpochArray(\n",
    "    state_dict_A015_day8[\"NREMstate\"],\n",
    ")\n"
   ]
  },
  {
   "cell_type": "markdown",
   "id": "9ccfa34f-6625-4a06-a108-dcb0bd5c829a",
   "metadata": {},
   "source": [
    "### Peak Reactivation strength"
   ]
  },
  {
   "cell_type": "code",
   "execution_count": 32,
   "id": "c619fe3a-6961-4151-9214-9a0fca0a3bfb",
   "metadata": {},
   "outputs": [],
   "source": [
    "#assembly_react_A015_day8.get_weights(epoch= assembly_react_A015_day8.epochs[1])\n",
    "#assembly_react_A015_day8.plot()\n",
    "#plt.show()"
   ]
  },
  {
   "cell_type": "code",
   "execution_count": 33,
   "id": "682ce7c8-6ba2-4f95-a1f9-6ec503c61112",
   "metadata": {},
   "outputs": [],
   "source": [
    "#assembly_react_A015_day8.find_members()"
   ]
  },
  {
   "cell_type": "code",
   "execution_count": 34,
   "id": "1c8c3bb6-e105-401a-bdb8-4d9bbc58f407",
   "metadata": {},
   "outputs": [],
   "source": [
    "#assembly_act_pre_A015_day8 = assembly_react_A015_day8.get_assembly_act(assembly_react_A015_day8.epochs[0] & nrem_epochs) \n",
    "#assembly_act_pre_A015_day8"
   ]
  },
  {
   "cell_type": "code",
   "execution_count": 35,
   "id": "debdc749-57f6-4f9a-a77d-7ec64dccf899",
   "metadata": {},
   "outputs": [],
   "source": [
    "#assembly_act_post_A015_day8 = assembly_react_A015_day8.get_assembly_act(assembly_react_A015_day8.epochs[2] & nrem_epochs) \n",
    "#assembly_act_post_A015_day8"
   ]
  },
  {
   "cell_type": "code",
   "execution_count": 36,
   "id": "54a5ed7a-90c1-43cd-a56a-b7ad7c60405a",
   "metadata": {},
   "outputs": [],
   "source": [
    "#act_pre_sleep_above_A015_day8 = np.where(assembly_act_pre_A015_day8.data[:] > 5, assembly_act_pre_A015_day8.data[:], 0)\n",
    "#act_pre_sleep_above_A015_day8"
   ]
  },
  {
   "cell_type": "code",
   "execution_count": 37,
   "id": "65e000e0-13da-4af9-a28a-1853d39fa856",
   "metadata": {},
   "outputs": [],
   "source": [
    "#act_post_sleep_above_A015_day8 = np.where(assembly_act_post_A015_day8.data[:] > 5, assembly_act_post_A015_day8.data[:], 0)\n",
    "#act_post_sleep_above_A015_day8"
   ]
  },
  {
   "cell_type": "code",
   "execution_count": 38,
   "id": "459d1636-c685-41eb-8e4f-73892af850f7",
   "metadata": {},
   "outputs": [],
   "source": [
    "#Peak_reactivation_Joint_A015_day8 = np.mean(act_post_sleep_above_A015_day8[0]) - np.mean(act_pre_sleep_above_A015_day8[0])\n",
    "#Peak_reactivation_Joint_A015_day8"
   ]
  },
  {
   "cell_type": "code",
   "execution_count": null,
   "id": "317a2721-8f83-407a-9c7f-4d16de447056",
   "metadata": {},
   "outputs": [],
   "source": []
  },
  {
   "attachments": {},
   "cell_type": "markdown",
   "id": "1eaf45f9-fd67-41f4-be2a-0cf108cf69b7",
   "metadata": {},
   "source": [
    "## AO13_day7"
   ]
  },
  {
   "cell_type": "markdown",
   "id": "e20f6b1c-2135-4637-836f-c08e03f0e894",
   "metadata": {
    "jp-MarkdownHeadingCollapsed": true
   },
   "source": [
    "### Loading"
   ]
  },
  {
   "cell_type": "code",
   "execution_count": 41,
   "id": "b03e8b3b-295e-4f4d-a7c3-da2963abd925",
   "metadata": {},
   "outputs": [],
   "source": [
    "project_path='D:/Research Topic/tristan/step10_olivadata'\n",
    "\n",
    "mice_name = 'A013_day7'\n",
    "\n",
    "assembly_react_A013_day7 = AssemblyReact(\n",
    "    project_path=project_path,\n",
    "    mice_name= mice_name,\n",
    "    brainRegion=\"CA2-CA3\",\n",
    "    putativeCellType=\"pyr\",\n",
    "    z_mat_dt=0.025,\n",
    "    )\n"
   ]
  },
  {
   "cell_type": "code",
   "execution_count": 42,
   "id": "43c84626-333a-4cea-b3fb-8cd1e07d9ee3",
   "metadata": {},
   "outputs": [
    {
     "name": "stderr",
     "output_type": "stream",
     "text": [
      "C:\\Users\\ASUS\\anaconda3\\lib\\site-packages\\nelpy\\core\\_eventarray.py:996: UserWarning: ignoring events outside of eventarray support\n"
     ]
    },
    {
     "data": {
      "text/plain": [
       "<AssemblyReact: 30 units> of length 3:17:28:083 hours"
      ]
     },
     "execution_count": 42,
     "metadata": {},
     "output_type": "execute_result"
    }
   ],
   "source": [
    "assembly_react_A013_day7.load_data()\n",
    "assembly_react_A013_day7"
   ]
  },
  {
   "cell_type": "code",
   "execution_count": 43,
   "id": "d44a7ec9-0539-48ca-a798-b62c85cd49e2",
   "metadata": {},
   "outputs": [],
   "source": [
    "assembly_react_A013_day7.restrict_epochs_to_pre_task_post()"
   ]
  },
  {
   "cell_type": "code",
   "execution_count": 44,
   "id": "1703a430-737f-4290-a3bf-9a08e72a5310",
   "metadata": {},
   "outputs": [
    {
     "data": {
      "text/html": [
       "<div>\n",
       "<style scoped>\n",
       "    .dataframe tbody tr th:only-of-type {\n",
       "        vertical-align: middle;\n",
       "    }\n",
       "\n",
       "    .dataframe tbody tr th {\n",
       "        vertical-align: top;\n",
       "    }\n",
       "\n",
       "    .dataframe thead th {\n",
       "        text-align: right;\n",
       "    }\n",
       "</style>\n",
       "<table border=\"1\" class=\"dataframe\">\n",
       "  <thead>\n",
       "    <tr style=\"text-align: right;\">\n",
       "      <th></th>\n",
       "      <th>Cage_or_Maze</th>\n",
       "      <th>Start_Time</th>\n",
       "      <th>End_Time</th>\n",
       "    </tr>\n",
       "  </thead>\n",
       "  <tbody>\n",
       "    <tr>\n",
       "      <th>4</th>\n",
       "      <td>rest_pre</td>\n",
       "      <td>4803.033333</td>\n",
       "      <td>5598.166667</td>\n",
       "    </tr>\n",
       "    <tr>\n",
       "      <th>5</th>\n",
       "      <td>2novel_exposure</td>\n",
       "      <td>5598.166667</td>\n",
       "      <td>5954.583333</td>\n",
       "    </tr>\n",
       "    <tr>\n",
       "      <th>7</th>\n",
       "      <td>rest_post2</td>\n",
       "      <td>6203.716667</td>\n",
       "      <td>10313.616667</td>\n",
       "    </tr>\n",
       "  </tbody>\n",
       "</table>\n",
       "</div>"
      ],
      "text/plain": [
       "      Cage_or_Maze   Start_Time      End_Time\n",
       "4         rest_pre  4803.033333   5598.166667\n",
       "5  2novel_exposure  5598.166667   5954.583333\n",
       "7       rest_post2  6203.716667  10313.616667"
      ]
     },
     "execution_count": 44,
     "metadata": {},
     "output_type": "execute_result"
    }
   ],
   "source": [
    "assembly_react_A013_day7.epoch_df"
   ]
  },
  {
   "cell_type": "code",
   "execution_count": 45,
   "id": "ab63f800-e9f3-43e7-abf7-af171045a4de",
   "metadata": {},
   "outputs": [
    {
     "data": {
      "text/plain": [
       "<SpikeTrainArray at 0x21b8a443430: 30 units (10 segments)> at 30000 Hz"
      ]
     },
     "execution_count": 45,
     "metadata": {},
     "output_type": "execute_result"
    }
   ],
   "source": [
    "assembly_react_A013_day7.st"
   ]
  },
  {
   "cell_type": "code",
   "execution_count": 46,
   "id": "62777733-03f3-4ec1-9c24-6fe0de6a3841",
   "metadata": {},
   "outputs": [
    {
     "data": {
      "text/html": [
       "<div>\n",
       "<style scoped>\n",
       "    .dataframe tbody tr th:only-of-type {\n",
       "        vertical-align: middle;\n",
       "    }\n",
       "\n",
       "    .dataframe tbody tr th {\n",
       "        vertical-align: top;\n",
       "    }\n",
       "\n",
       "    .dataframe thead th {\n",
       "        text-align: right;\n",
       "    }\n",
       "</style>\n",
       "<table border=\"1\" class=\"dataframe\">\n",
       "  <thead>\n",
       "    <tr style=\"text-align: right;\">\n",
       "      <th></th>\n",
       "      <th>Type</th>\n",
       "      <th>Region</th>\n",
       "      <th>Modulation</th>\n",
       "      <th>CluID</th>\n",
       "    </tr>\n",
       "  </thead>\n",
       "  <tbody>\n",
       "    <tr>\n",
       "      <th>1</th>\n",
       "      <td>pyr</td>\n",
       "      <td>CA2</td>\n",
       "      <td>positive</td>\n",
       "      <td>1</td>\n",
       "    </tr>\n",
       "    <tr>\n",
       "      <th>3</th>\n",
       "      <td>pyr</td>\n",
       "      <td>CA2</td>\n",
       "      <td>positive</td>\n",
       "      <td>3</td>\n",
       "    </tr>\n",
       "    <tr>\n",
       "      <th>4</th>\n",
       "      <td>pyr</td>\n",
       "      <td>CA2</td>\n",
       "      <td>positive</td>\n",
       "      <td>4</td>\n",
       "    </tr>\n",
       "    <tr>\n",
       "      <th>6</th>\n",
       "      <td>pyr</td>\n",
       "      <td>CA2</td>\n",
       "      <td>positive</td>\n",
       "      <td>6</td>\n",
       "    </tr>\n",
       "    <tr>\n",
       "      <th>8</th>\n",
       "      <td>pyr</td>\n",
       "      <td>CA2</td>\n",
       "      <td>positive</td>\n",
       "      <td>8</td>\n",
       "    </tr>\n",
       "    <tr>\n",
       "      <th>9</th>\n",
       "      <td>pyr</td>\n",
       "      <td>CA2</td>\n",
       "      <td>negative</td>\n",
       "      <td>9</td>\n",
       "    </tr>\n",
       "    <tr>\n",
       "      <th>17</th>\n",
       "      <td>pyr</td>\n",
       "      <td>CA2</td>\n",
       "      <td>negative</td>\n",
       "      <td>17</td>\n",
       "    </tr>\n",
       "    <tr>\n",
       "      <th>18</th>\n",
       "      <td>pyr</td>\n",
       "      <td>CA2</td>\n",
       "      <td>positive</td>\n",
       "      <td>18</td>\n",
       "    </tr>\n",
       "    <tr>\n",
       "      <th>19</th>\n",
       "      <td>pyr</td>\n",
       "      <td>CA2</td>\n",
       "      <td>negative</td>\n",
       "      <td>19</td>\n",
       "    </tr>\n",
       "    <tr>\n",
       "      <th>20</th>\n",
       "      <td>pyr</td>\n",
       "      <td>CA2</td>\n",
       "      <td>negative</td>\n",
       "      <td>20</td>\n",
       "    </tr>\n",
       "    <tr>\n",
       "      <th>21</th>\n",
       "      <td>pyr</td>\n",
       "      <td>CA2</td>\n",
       "      <td>positive</td>\n",
       "      <td>21</td>\n",
       "    </tr>\n",
       "    <tr>\n",
       "      <th>22</th>\n",
       "      <td>pyr</td>\n",
       "      <td>CA2</td>\n",
       "      <td>positive</td>\n",
       "      <td>22</td>\n",
       "    </tr>\n",
       "    <tr>\n",
       "      <th>23</th>\n",
       "      <td>pyr</td>\n",
       "      <td>CA2</td>\n",
       "      <td>negative</td>\n",
       "      <td>23</td>\n",
       "    </tr>\n",
       "    <tr>\n",
       "      <th>24</th>\n",
       "      <td>pyr</td>\n",
       "      <td>CA2</td>\n",
       "      <td>negative</td>\n",
       "      <td>24</td>\n",
       "    </tr>\n",
       "    <tr>\n",
       "      <th>25</th>\n",
       "      <td>pyr</td>\n",
       "      <td>CA2</td>\n",
       "      <td>negative</td>\n",
       "      <td>25</td>\n",
       "    </tr>\n",
       "    <tr>\n",
       "      <th>26</th>\n",
       "      <td>pyr</td>\n",
       "      <td>CA2</td>\n",
       "      <td>negative</td>\n",
       "      <td>26</td>\n",
       "    </tr>\n",
       "    <tr>\n",
       "      <th>29</th>\n",
       "      <td>pyr</td>\n",
       "      <td>CA2</td>\n",
       "      <td>negative</td>\n",
       "      <td>29</td>\n",
       "    </tr>\n",
       "    <tr>\n",
       "      <th>30</th>\n",
       "      <td>pyr</td>\n",
       "      <td>CA2</td>\n",
       "      <td>negative</td>\n",
       "      <td>30</td>\n",
       "    </tr>\n",
       "    <tr>\n",
       "      <th>31</th>\n",
       "      <td>pyr</td>\n",
       "      <td>CA2</td>\n",
       "      <td>negative</td>\n",
       "      <td>31</td>\n",
       "    </tr>\n",
       "    <tr>\n",
       "      <th>2</th>\n",
       "      <td>pyr</td>\n",
       "      <td>CA3</td>\n",
       "      <td>positive</td>\n",
       "      <td>2</td>\n",
       "    </tr>\n",
       "    <tr>\n",
       "      <th>5</th>\n",
       "      <td>pyr</td>\n",
       "      <td>CA3</td>\n",
       "      <td>positive</td>\n",
       "      <td>5</td>\n",
       "    </tr>\n",
       "    <tr>\n",
       "      <th>10</th>\n",
       "      <td>pyr</td>\n",
       "      <td>CA3</td>\n",
       "      <td>negative</td>\n",
       "      <td>10</td>\n",
       "    </tr>\n",
       "    <tr>\n",
       "      <th>11</th>\n",
       "      <td>pyr</td>\n",
       "      <td>CA3</td>\n",
       "      <td>positive</td>\n",
       "      <td>11</td>\n",
       "    </tr>\n",
       "    <tr>\n",
       "      <th>12</th>\n",
       "      <td>pyr</td>\n",
       "      <td>CA3</td>\n",
       "      <td>negative</td>\n",
       "      <td>12</td>\n",
       "    </tr>\n",
       "    <tr>\n",
       "      <th>13</th>\n",
       "      <td>pyr</td>\n",
       "      <td>CA3</td>\n",
       "      <td>positive</td>\n",
       "      <td>13</td>\n",
       "    </tr>\n",
       "    <tr>\n",
       "      <th>14</th>\n",
       "      <td>pyr</td>\n",
       "      <td>CA3</td>\n",
       "      <td>positive</td>\n",
       "      <td>14</td>\n",
       "    </tr>\n",
       "    <tr>\n",
       "      <th>15</th>\n",
       "      <td>pyr</td>\n",
       "      <td>CA3</td>\n",
       "      <td>positive</td>\n",
       "      <td>15</td>\n",
       "    </tr>\n",
       "    <tr>\n",
       "      <th>16</th>\n",
       "      <td>pyr</td>\n",
       "      <td>CA3</td>\n",
       "      <td>positive</td>\n",
       "      <td>16</td>\n",
       "    </tr>\n",
       "    <tr>\n",
       "      <th>27</th>\n",
       "      <td>pyr</td>\n",
       "      <td>CA3</td>\n",
       "      <td>negative</td>\n",
       "      <td>27</td>\n",
       "    </tr>\n",
       "    <tr>\n",
       "      <th>28</th>\n",
       "      <td>pyr</td>\n",
       "      <td>CA3</td>\n",
       "      <td>negative</td>\n",
       "      <td>28</td>\n",
       "    </tr>\n",
       "  </tbody>\n",
       "</table>\n",
       "</div>"
      ],
      "text/plain": [
       "   Type Region Modulation  CluID\n",
       "1   pyr    CA2   positive      1\n",
       "3   pyr    CA2   positive      3\n",
       "4   pyr    CA2   positive      4\n",
       "6   pyr    CA2   positive      6\n",
       "8   pyr    CA2   positive      8\n",
       "9   pyr    CA2   negative      9\n",
       "17  pyr    CA2   negative     17\n",
       "18  pyr    CA2   positive     18\n",
       "19  pyr    CA2   negative     19\n",
       "20  pyr    CA2   negative     20\n",
       "21  pyr    CA2   positive     21\n",
       "22  pyr    CA2   positive     22\n",
       "23  pyr    CA2   negative     23\n",
       "24  pyr    CA2   negative     24\n",
       "25  pyr    CA2   negative     25\n",
       "26  pyr    CA2   negative     26\n",
       "29  pyr    CA2   negative     29\n",
       "30  pyr    CA2   negative     30\n",
       "31  pyr    CA2   negative     31\n",
       "2   pyr    CA3   positive      2\n",
       "5   pyr    CA3   positive      5\n",
       "10  pyr    CA3   negative     10\n",
       "11  pyr    CA3   positive     11\n",
       "12  pyr    CA3   negative     12\n",
       "13  pyr    CA3   positive     13\n",
       "14  pyr    CA3   positive     14\n",
       "15  pyr    CA3   positive     15\n",
       "16  pyr    CA3   positive     16\n",
       "27  pyr    CA3   negative     27\n",
       "28  pyr    CA3   negative     28"
      ]
     },
     "execution_count": 46,
     "metadata": {},
     "output_type": "execute_result"
    }
   ],
   "source": [
    "assembly_react_A013_day7.cell_metrics"
   ]
  },
  {
   "cell_type": "code",
   "execution_count": 47,
   "id": "3c67a90e-9451-42d3-95be-d4a635b01d1a",
   "metadata": {},
   "outputs": [],
   "source": [
    "state_dict_A013_day7 = load_SleepState_states(project_path, mice_name)\n",
    "\n",
    "wake_epoch = nel.EpochArray(\n",
    "    state_dict_A013_day7[\"WAKEepisode\"],\n",
    ")\n",
    "\n",
    "nrem_epochs = nel.EpochArray(\n",
    "    state_dict_A013_day7[\"NREMepisode\"],\n",
    ")\n"
   ]
  },
  {
   "cell_type": "markdown",
   "id": "fe9bd700-1128-4448-a5fa-505d23ba636a",
   "metadata": {},
   "source": [
    "### Peak reactivation"
   ]
  },
  {
   "cell_type": "code",
   "execution_count": 49,
   "id": "71410cb3-07a1-4bb6-8294-e823b6983788",
   "metadata": {},
   "outputs": [
    {
     "data": {
      "image/png": "[encoded data removed]",
      "text/plain": [
       "<Figure size 700x300 with 6 Axes>"
      ]
     },
     "metadata": {},
     "output_type": "display_data"
    }
   ],
   "source": [
    "assembly_react_A013_day7.get_weights(epoch= assembly_react_A013_day7.epochs[1] & wake_epoch)\n",
    "assembly_react_A013_day7.plot()\n",
    "plt.show()"
   ]
  },
  {
   "cell_type": "code",
   "execution_count": 50,
   "id": "4b7dd6ce-b366-4bc5-9e76-9421ad47b708",
   "metadata": {},
   "outputs": [
    {
     "name": "stderr",
     "output_type": "stream",
     "text": [
      "C:\\Users\\ASUS\\anaconda3\\lib\\site-packages\\nelpy\\core\\_analogsignalarray.py:420: UserWarning: creating support from abscissa_vals and sampling rate, fs!\n",
      "C:\\Users\\ASUS\\anaconda3\\lib\\site-packages\\nelpy\\utils.py:842: UserWarning: some steps in the data are smaller than the requested step size.\n"
     ]
    },
    {
     "data": {
      "text/plain": [
       "<AnalogSignalArray at 0x21b89b07400: 6 signals (3 segments)> for a total of 7:40 minutes"
      ]
     },
     "execution_count": 50,
     "metadata": {},
     "output_type": "execute_result"
    }
   ],
   "source": [
    "assembly_act_pre_A013_day7 = assembly_react_A013_day7.get_assembly_act(assembly_react_A013_day7.epochs[0] & nrem_epochs) \n",
    "assembly_act_pre_A013_day7"
   ]
  },
  {
   "cell_type": "code",
   "execution_count": 51,
   "id": "81cb9ca5-df0e-4eca-82ef-956d15481920",
   "metadata": {},
   "outputs": [
    {
     "name": "stderr",
     "output_type": "stream",
     "text": [
      "C:\\Users\\ASUS\\anaconda3\\lib\\site-packages\\nelpy\\core\\_analogsignalarray.py:420: UserWarning: creating support from abscissa_vals and sampling rate, fs!\n",
      "C:\\Users\\ASUS\\anaconda3\\lib\\site-packages\\nelpy\\utils.py:842: UserWarning: some steps in the data are smaller than the requested step size.\n"
     ]
    },
    {
     "data": {
      "text/plain": [
       "<AnalogSignalArray at 0x21b8911f3a0: 6 signals (2 segments)> for a total of 1:05:14:875 hours"
      ]
     },
     "execution_count": 51,
     "metadata": {},
     "output_type": "execute_result"
    }
   ],
   "source": [
    "assembly_act_post_A013_day7 = assembly_react_A013_day7.get_assembly_act(assembly_react_A013_day7.epochs[2] & nrem_epochs) \n",
    "assembly_act_post_A013_day7"
   ]
  },
  {
   "cell_type": "code",
   "execution_count": 52,
   "id": "4d5adf22-64be-4bda-9a5f-022b3cfd5d09",
   "metadata": {},
   "outputs": [],
   "source": [
    "act_pre_sleep_above_A013_day7 = np.where(assembly_act_pre_A013_day7.data[:] > 5, assembly_act_pre_A013_day7.data[:], 0)\n",
    "act_post_sleep_above_A013_day7 = np.where(assembly_act_post_A013_day7.data[:] > 5, assembly_act_post_A013_day7.data[:], 0)"
   ]
  },
  {
   "cell_type": "code",
   "execution_count": 53,
   "id": "91227dd0-7590-460d-b6c2-5ab440ead124",
   "metadata": {},
   "outputs": [
    {
     "name": "stdout",
     "output_type": "stream",
     "text": [
      "Reactivation Rates: [0.29890035295887857, -0.04557948866417958, 0.37155990316280496, 0.2630996726338623, -0.24926244172527892, 0.2176521915758094]\n"
     ]
    }
   ],
   "source": [
    "act_pre_sleep_above_A013_day7_test = act_pre_sleep_above_A013_day7\n",
    "assembly_act_post_A013_day7_test = act_post_sleep_above_A013_day7\n",
    "sampling_rate = 1  # Replace with actual rate\n",
    "\n",
    "# Define the duration of each bin in seconds\n",
    "bin_duration = 60\n",
    "reactivation_rates_A013_day7 = []\n",
    "\n",
    "for pre_sleep_data, post_sleep_data in zip(act_pre_sleep_above_A013_day7_test, assembly_act_post_A013_day7_test):\n",
    "    # Compute peak averages for the current pair of sessions\n",
    "    pre_sleep_peak_averages = compute_peak_averages(pre_sleep_data)\n",
    "    post_sleep_peak_averages = compute_peak_averages(post_sleep_data)\n",
    "    \n",
    "    # Average reactivation strengths\n",
    "    avg_pre_sleep_reactivation = np.mean(pre_sleep_peak_averages)\n",
    "    avg_post_sleep_reactivation = np.mean(post_sleep_peak_averages)\n",
    "    \n",
    "    # Overall average peak reactivation strength for normalization\n",
    "    all_peak_averages = np.concatenate((pre_sleep_peak_averages, post_sleep_peak_averages))\n",
    "    overall_average_reactivation = np.mean(all_peak_averages)\n",
    "    \n",
    "    # Calculate the reactivation strength difference and normalize\n",
    "    reactivation_strength_difference = (avg_post_sleep_reactivation - avg_pre_sleep_reactivation)\n",
    "    \n",
    "    # Avoid division by zero if there are no peaks detected in both sessions\n",
    "    if overall_average_reactivation != 0:\n",
    "        normalized_reactivation_strength_difference = reactivation_strength_difference / overall_average_reactivation\n",
    "    else:\n",
    "        normalized_reactivation_strength_difference = 0\n",
    "    \n",
    "    reactivation_rates_A013_day7.append(normalized_reactivation_strength_difference)\n",
    "\n",
    "# The reactivation_rates list now contains the reactivation rate for each pair of pre-sleep and post-sleep arrays\n",
    "print(\"Reactivation Rates:\", reactivation_rates_A013_day7)"
   ]
  },
  {
   "cell_type": "code",
   "execution_count": 54,
   "id": "4cd14e25-ed85-40fc-873c-53576c458bf9",
   "metadata": {},
   "outputs": [
    {
     "data": {
      "text/plain": [
       "[0.29890035295887857, -0.04557948866417958, 0.37155990316280496]"
      ]
     },
     "execution_count": 54,
     "metadata": {},
     "output_type": "execute_result"
    }
   ],
   "source": [
    "Peak_reactivation_Joint_A013_day7 = reactivation_rates_A013_day7[0:3]\n",
    "Peak_reactivation_Joint_A013_day7"
   ]
  },
  {
   "cell_type": "code",
   "execution_count": 55,
   "id": "249bd247-8d57-4237-b128-275f7f44cb6c",
   "metadata": {},
   "outputs": [
    {
     "data": {
      "text/plain": [
       "[0.2630996726338623, -0.24926244172527892, 0.2176521915758094]"
      ]
     },
     "execution_count": 55,
     "metadata": {},
     "output_type": "execute_result"
    }
   ],
   "source": [
    "Peak_reactivation_CA2_A013_day7 = reactivation_rates_A013_day7[3:]\n",
    "Peak_reactivation_CA2_A013_day7"
   ]
  },
  {
   "attachments": {},
   "cell_type": "markdown",
   "id": "f5c194a1-7a6e-4e4a-94ca-5ac435cc752d",
   "metadata": {
    "jp-MarkdownHeadingCollapsed": true
   },
   "source": [
    "## A013_day15"
   ]
  },
  {
   "cell_type": "code",
   "execution_count": 57,
   "id": "22268d2e-4355-4dbb-bd41-cb90af05b6a8",
   "metadata": {},
   "outputs": [],
   "source": [
    "project_path='D:/Research Topic/tristan/step10_olivadata'\n",
    "\n",
    "mice_name = 'A013_day15'\n",
    "\n",
    "assembly_react_A013_day15 = AssemblyReact(\n",
    "    project_path=project_path,\n",
    "    mice_name= mice_name,\n",
    "    brainRegion=\"CA2\",\n",
    "    putativeCellType=\"pyr\",\n",
    "    z_mat_dt=0.025,\n",
    "    )"
   ]
  },
  {
   "cell_type": "code",
   "execution_count": 58,
   "id": "1c9ffeca-7b89-4845-9bfc-ebbf953c824d",
   "metadata": {},
   "outputs": [
    {
     "name": "stderr",
     "output_type": "stream",
     "text": [
      "C:\\Users\\ASUS\\anaconda3\\lib\\site-packages\\nelpy\\core\\_eventarray.py:996: UserWarning: ignoring events outside of eventarray support\n"
     ]
    },
    {
     "data": {
      "text/plain": [
       "<AssemblyReact: 52 units> of length 4:57:37:533 hours"
      ]
     },
     "execution_count": 58,
     "metadata": {},
     "output_type": "execute_result"
    }
   ],
   "source": [
    "assembly_react_A013_day15.load_data()\n",
    "assembly_react_A013_day15"
   ]
  },
  {
   "cell_type": "code",
   "execution_count": 59,
   "id": "05d56d03-6958-426c-b8a8-88e32e05227f",
   "metadata": {},
   "outputs": [],
   "source": [
    "assembly_react_A013_day15.restrict_epochs_to_pre_task_post()"
   ]
  },
  {
   "cell_type": "code",
   "execution_count": 60,
   "id": "024994f7-d432-49d5-a1d7-1bb3c02e7bc2",
   "metadata": {},
   "outputs": [
    {
     "data": {
      "text/html": [
       "<div>\n",
       "<style scoped>\n",
       "    .dataframe tbody tr th:only-of-type {\n",
       "        vertical-align: middle;\n",
       "    }\n",
       "\n",
       "    .dataframe tbody tr th {\n",
       "        vertical-align: top;\n",
       "    }\n",
       "\n",
       "    .dataframe thead th {\n",
       "        text-align: right;\n",
       "    }\n",
       "</style>\n",
       "<table border=\"1\" class=\"dataframe\">\n",
       "  <thead>\n",
       "    <tr style=\"text-align: right;\">\n",
       "      <th></th>\n",
       "      <th>Cage_or_Maze</th>\n",
       "      <th>Start_Time</th>\n",
       "      <th>End_Time</th>\n",
       "    </tr>\n",
       "  </thead>\n",
       "  <tbody>\n",
       "    <tr>\n",
       "      <th>4</th>\n",
       "      <td>rest_pre</td>\n",
       "      <td>3907.066667</td>\n",
       "      <td>6102.083333</td>\n",
       "    </tr>\n",
       "    <tr>\n",
       "      <th>5</th>\n",
       "      <td>2novel_exposure</td>\n",
       "      <td>6102.083333</td>\n",
       "      <td>6344.233333</td>\n",
       "    </tr>\n",
       "    <tr>\n",
       "      <th>7</th>\n",
       "      <td>rest_post2</td>\n",
       "      <td>6572.450000</td>\n",
       "      <td>10804.400000</td>\n",
       "    </tr>\n",
       "  </tbody>\n",
       "</table>\n",
       "</div>"
      ],
      "text/plain": [
       "      Cage_or_Maze   Start_Time      End_Time\n",
       "4         rest_pre  3907.066667   6102.083333\n",
       "5  2novel_exposure  6102.083333   6344.233333\n",
       "7       rest_post2  6572.450000  10804.400000"
      ]
     },
     "execution_count": 60,
     "metadata": {},
     "output_type": "execute_result"
    }
   ],
   "source": [
    "assembly_react_A013_day15.epoch_df"
   ]
  },
  {
   "cell_type": "code",
   "execution_count": 61,
   "id": "a04a24da-d7ef-46cc-8d26-b27ada5b9362",
   "metadata": {},
   "outputs": [
    {
     "data": {
      "text/plain": [
       "<SpikeTrainArray at 0x21b89b423b0: 52 units (10 segments)> at 30000 Hz"
      ]
     },
     "execution_count": 61,
     "metadata": {},
     "output_type": "execute_result"
    }
   ],
   "source": [
    "assembly_react_A013_day15.st"
   ]
  },
  {
   "cell_type": "code",
   "execution_count": 62,
   "id": "a0245f49-b205-4857-82d4-d7f719d97026",
   "metadata": {},
   "outputs": [],
   "source": [
    "state_dict_A013_day15 = load_SleepState_states(project_path, mice_name)\n",
    "\n",
    "wake_epoch = nel.EpochArray(\n",
    "    state_dict_A013_day15[\"WAKEepisode\"],\n",
    ")\n",
    "\n",
    "nrem_epochs = nel.EpochArray(\n",
    "    state_dict_A013_day15[\"NREMepisode\"],\n",
    ")\n"
   ]
  },
  {
   "cell_type": "code",
   "execution_count": 63,
   "id": "62bea731-c0c8-4c7d-9c65-4d41fd641a16",
   "metadata": {},
   "outputs": [
    {
     "data": {
      "image/png": "[encoded data removed]",
      "text/plain": [
       "<Figure size 600x200 with 5 Axes>"
      ]
     },
     "metadata": {},
     "output_type": "display_data"
    }
   ],
   "source": [
    "assembly_react_A013_day15.get_weights(epoch= assembly_react_A013_day15.epochs[1] & wake_epoch)\n",
    "assembly_react_A013_day15.plot()\n",
    "plt.show()"
   ]
  },
  {
   "cell_type": "code",
   "execution_count": 64,
   "id": "c02af9f6-8ebd-4b32-9c5f-d3def80f90e1",
   "metadata": {},
   "outputs": [
    {
     "name": "stderr",
     "output_type": "stream",
     "text": [
      "C:\\Users\\ASUS\\anaconda3\\lib\\site-packages\\nelpy\\core\\_analogsignalarray.py:420: UserWarning: creating support from abscissa_vals and sampling rate, fs!\n",
      "C:\\Users\\ASUS\\anaconda3\\lib\\site-packages\\nelpy\\utils.py:842: UserWarning: some steps in the data are smaller than the requested step size.\n",
      "C:\\Users\\ASUS\\anaconda3\\lib\\site-packages\\nelpy\\core\\_analogsignalarray.py:420: UserWarning: creating support from abscissa_vals and sampling rate, fs!\n",
      "C:\\Users\\ASUS\\anaconda3\\lib\\site-packages\\nelpy\\utils.py:842: UserWarning: some steps in the data are smaller than the requested step size.\n"
     ]
    }
   ],
   "source": [
    "assembly_act_pre_A013_day15 = assembly_react_A013_day15.get_assembly_act(assembly_react_A013_day15.epochs[0] & nrem_epochs) \n",
    "assembly_act_post_A013_day15 = assembly_react_A013_day15.get_assembly_act(assembly_react_A013_day15.epochs[2] & nrem_epochs) \n",
    "act_pre_sleep_above_A013_day15 = np.where(assembly_act_pre_A013_day15.data[:] > 5, assembly_act_pre_A013_day15.data[:], 0)\n",
    "act_post_sleep_above_A013_day15 = np.where(assembly_act_post_A013_day15.data[:] > 5, assembly_act_post_A013_day15.data[:], 0)"
   ]
  },
  {
   "cell_type": "code",
   "execution_count": 65,
   "id": "5314b242-b415-46ca-9f2c-1f6d871e754b",
   "metadata": {},
   "outputs": [
    {
     "name": "stdout",
     "output_type": "stream",
     "text": [
      "Reactivation Rates: [0.28784963427529714, -0.053465930921220706, 0.057149133833485334, 0.1811033722279208, 0.25848439118891825]\n"
     ]
    }
   ],
   "source": [
    "\n",
    "sampling_rate = 1  # Replace with actual rate\n",
    "\n",
    "# Define the duration of each bin in seconds\n",
    "bin_duration = 60\n",
    "reactivation_rates_A013_day15 = []\n",
    "\n",
    "for pre_sleep_data, post_sleep_data in zip(act_pre_sleep_above_A013_day15, act_post_sleep_above_A013_day15):\n",
    "    # Compute peak averages for the current pair of sessions\n",
    "    pre_sleep_peak_averages = compute_peak_averages(pre_sleep_data)\n",
    "    post_sleep_peak_averages = compute_peak_averages(post_sleep_data)\n",
    "    \n",
    "    # Average reactivation strengths\n",
    "    avg_pre_sleep_reactivation = np.mean(pre_sleep_peak_averages)\n",
    "    avg_post_sleep_reactivation = np.mean(post_sleep_peak_averages)\n",
    "    \n",
    "    # Overall average peak reactivation strength for normalization\n",
    "    all_peak_averages = np.concatenate((pre_sleep_peak_averages, post_sleep_peak_averages))\n",
    "    overall_average_reactivation = np.mean(all_peak_averages)\n",
    "    \n",
    "    # Calculate the reactivation strength difference and normalize\n",
    "    reactivation_strength_difference = (avg_post_sleep_reactivation - avg_pre_sleep_reactivation)\n",
    "    \n",
    "    # Avoid division by zero if there are no peaks detected in both sessions\n",
    "    if overall_average_reactivation != 0:\n",
    "        normalized_reactivation_strength_difference = reactivation_strength_difference / overall_average_reactivation\n",
    "    else:\n",
    "        normalized_reactivation_strength_difference = 0\n",
    "    \n",
    "    reactivation_rates_A013_day15.append(normalized_reactivation_strength_difference)\n",
    "\n",
    "# The reactivation_rates list now contains the reactivation rate for each pair of pre-sleep and post-sleep arrays\n",
    "print(\"Reactivation Rates:\", reactivation_rates_A013_day15)"
   ]
  },
  {
   "cell_type": "code",
   "execution_count": 66,
   "id": "af2c3245-3084-483e-bfdf-b882191d6ce7",
   "metadata": {},
   "outputs": [
    {
     "data": {
      "text/plain": [
       "[0.28784963427529714,\n",
       " -0.053465930921220706,\n",
       " 0.057149133833485334,\n",
       " 0.1811033722279208,\n",
       " 0.25848439118891825]"
      ]
     },
     "execution_count": 66,
     "metadata": {},
     "output_type": "execute_result"
    }
   ],
   "source": [
    "Peak_reactivation_CA2_A013_day15 = reactivation_rates_A013_day15\n",
    "Peak_reactivation_CA2_A013_day15"
   ]
  },
  {
   "cell_type": "markdown",
   "id": "6acb2b59-9363-4637-b00f-777a0bb910e5",
   "metadata": {
    "jp-MarkdownHeadingCollapsed": true
   },
   "source": [
    "## A013_day13"
   ]
  },
  {
   "cell_type": "code",
   "execution_count": 68,
   "id": "31af69dd-cce5-4721-9581-85722c20e3c4",
   "metadata": {},
   "outputs": [],
   "source": [
    "project_path='D:/Research Topic/tristan/step10_olivadata'\n",
    "\n",
    "mice_name = 'A013_day13'\n",
    "\n",
    "assembly_react_A013_day13 = AssemblyReact(\n",
    "    project_path=project_path,\n",
    "    mice_name= mice_name,\n",
    "    brainRegion=\"CA2\",\n",
    "    putativeCellType=\"pyr\",\n",
    "    z_mat_dt=0.025,\n",
    "    )"
   ]
  },
  {
   "cell_type": "code",
   "execution_count": 69,
   "id": "56601db8-335a-4672-a58b-e15f5f8e69fc",
   "metadata": {},
   "outputs": [
    {
     "name": "stderr",
     "output_type": "stream",
     "text": [
      "C:\\Users\\ASUS\\anaconda3\\lib\\site-packages\\nelpy\\core\\_eventarray.py:996: UserWarning: ignoring events outside of eventarray support\n"
     ]
    },
    {
     "data": {
      "text/plain": [
       "<AssemblyReact: 46 units> of length 3:17:07:583 hours"
      ]
     },
     "execution_count": 69,
     "metadata": {},
     "output_type": "execute_result"
    }
   ],
   "source": [
    "assembly_react_A013_day13.load_data()\n",
    "assembly_react_A013_day13"
   ]
  },
  {
   "cell_type": "code",
   "execution_count": 70,
   "id": "58ace6ef-a0dd-44e3-a613-31daaa4a6535",
   "metadata": {},
   "outputs": [],
   "source": [
    "assembly_react_A013_day13.restrict_epochs_to_pre_task_post()"
   ]
  },
  {
   "cell_type": "code",
   "execution_count": 71,
   "id": "006f0bda-ed60-41df-8845-17b554d93977",
   "metadata": {},
   "outputs": [
    {
     "data": {
      "text/html": [
       "<div>\n",
       "<style scoped>\n",
       "    .dataframe tbody tr th:only-of-type {\n",
       "        vertical-align: middle;\n",
       "    }\n",
       "\n",
       "    .dataframe tbody tr th {\n",
       "        vertical-align: top;\n",
       "    }\n",
       "\n",
       "    .dataframe thead th {\n",
       "        text-align: right;\n",
       "    }\n",
       "</style>\n",
       "<table border=\"1\" class=\"dataframe\">\n",
       "  <thead>\n",
       "    <tr style=\"text-align: right;\">\n",
       "      <th></th>\n",
       "      <th>Cage_or_Maze</th>\n",
       "      <th>Start_Time</th>\n",
       "      <th>End_Time</th>\n",
       "    </tr>\n",
       "  </thead>\n",
       "  <tbody>\n",
       "    <tr>\n",
       "      <th>4</th>\n",
       "      <td>rest_pre</td>\n",
       "      <td>4557.216667</td>\n",
       "      <td>8314.366667</td>\n",
       "    </tr>\n",
       "    <tr>\n",
       "      <th>5</th>\n",
       "      <td>2novel_exposure</td>\n",
       "      <td>8314.366667</td>\n",
       "      <td>8569.333333</td>\n",
       "    </tr>\n",
       "    <tr>\n",
       "      <th>7</th>\n",
       "      <td>rest_post2</td>\n",
       "      <td>8820.266667</td>\n",
       "      <td>11501.800000</td>\n",
       "    </tr>\n",
       "  </tbody>\n",
       "</table>\n",
       "</div>"
      ],
      "text/plain": [
       "      Cage_or_Maze   Start_Time      End_Time\n",
       "4         rest_pre  4557.216667   8314.366667\n",
       "5  2novel_exposure  8314.366667   8569.333333\n",
       "7       rest_post2  8820.266667  11501.800000"
      ]
     },
     "execution_count": 71,
     "metadata": {},
     "output_type": "execute_result"
    }
   ],
   "source": [
    "assembly_react_A013_day13.epoch_df"
   ]
  },
  {
   "cell_type": "code",
   "execution_count": 72,
   "id": "0772f556-39d1-462e-8aec-450911aa06fc",
   "metadata": {},
   "outputs": [
    {
     "data": {
      "text/plain": [
       "<SpikeTrainArray at 0x21b88fa9300: 46 units (9 segments)> at 30000 Hz"
      ]
     },
     "execution_count": 72,
     "metadata": {},
     "output_type": "execute_result"
    }
   ],
   "source": [
    "assembly_react_A013_day13.st"
   ]
  },
  {
   "cell_type": "code",
   "execution_count": 73,
   "id": "7bc50efb-ec31-40f4-a569-6a6fc4eecb23",
   "metadata": {},
   "outputs": [],
   "source": [
    "state_dict_A013_day13 = load_SleepState_states(project_path, mice_name)\n",
    "\n",
    "wake_epoch = nel.EpochArray(\n",
    "    state_dict_A013_day13[\"WAKEepisode\"],\n",
    ")\n",
    "\n",
    "nrem_epochs = nel.EpochArray(\n",
    "    state_dict_A013_day13[\"NREMepisode\"],\n",
    ")"
   ]
  },
  {
   "cell_type": "code",
   "execution_count": 74,
   "id": "c53f7266-beac-4bb5-956d-c6c9b9ca4306",
   "metadata": {},
   "outputs": [
    {
     "data": {
      "image/png": "[encoded data removed]",
      "text/plain": [
       "<Figure size 600x200 with 5 Axes>"
      ]
     },
     "metadata": {},
     "output_type": "display_data"
    }
   ],
   "source": [
    "assembly_react_A013_day13.get_weights(epoch= assembly_react_A013_day13.epochs[1] & wake_epoch)\n",
    "assembly_react_A013_day13.plot()\n",
    "plt.show()"
   ]
  },
  {
   "cell_type": "code",
   "execution_count": 75,
   "id": "da8d1d93-46c1-4b62-ae2d-3d00484987be",
   "metadata": {},
   "outputs": [
    {
     "name": "stderr",
     "output_type": "stream",
     "text": [
      "C:\\Users\\ASUS\\anaconda3\\lib\\site-packages\\nelpy\\core\\_analogsignalarray.py:420: UserWarning: creating support from abscissa_vals and sampling rate, fs!\n",
      "C:\\Users\\ASUS\\anaconda3\\lib\\site-packages\\nelpy\\utils.py:842: UserWarning: some steps in the data are smaller than the requested step size.\n",
      "C:\\Users\\ASUS\\anaconda3\\lib\\site-packages\\nelpy\\core\\_analogsignalarray.py:420: UserWarning: creating support from abscissa_vals and sampling rate, fs!\n",
      "C:\\Users\\ASUS\\anaconda3\\lib\\site-packages\\nelpy\\utils.py:842: UserWarning: some steps in the data are smaller than the requested step size.\n"
     ]
    }
   ],
   "source": [
    "assembly_act_pre_A013_day13 = assembly_react_A013_day13.get_assembly_act(assembly_react_A013_day13.epochs[0] & nrem_epochs) \n",
    "assembly_act_post_A013_day13 = assembly_react_A013_day13.get_assembly_act(assembly_react_A013_day13.epochs[2] & nrem_epochs) \n",
    "act_pre_sleep_above_A013_day13 = np.where(assembly_act_pre_A013_day13.data[:] > 5, assembly_act_pre_A013_day13.data[:], 0)\n",
    "act_post_sleep_above_A013_day13 = np.where(assembly_act_post_A013_day13.data[:] > 5, assembly_act_post_A013_day13.data[:], 0)"
   ]
  },
  {
   "cell_type": "code",
   "execution_count": 76,
   "id": "9f137514-2798-4c2b-a016-364d1e9fdc56",
   "metadata": {},
   "outputs": [
    {
     "name": "stdout",
     "output_type": "stream",
     "text": [
      "Reactivation Rates: [0.0560211536016921, -0.18975687088745094, -0.10351863317044314, 0.05507283863800106, -0.006882449600860075]\n"
     ]
    }
   ],
   "source": [
    "sampling_rate = 1  # Replace with actual rate\n",
    "\n",
    "# Define the duration of each bin in seconds\n",
    "bin_duration = 60\n",
    "reactivation_rates_A013_day13 = []\n",
    "\n",
    "for pre_sleep_data, post_sleep_data in zip(act_pre_sleep_above_A013_day13, act_post_sleep_above_A013_day13):\n",
    "    # Compute peak averages for the current pair of sessions\n",
    "    pre_sleep_peak_averages = compute_peak_averages(pre_sleep_data)\n",
    "    post_sleep_peak_averages = compute_peak_averages(post_sleep_data)\n",
    "    \n",
    "    # Average reactivation strengths\n",
    "    avg_pre_sleep_reactivation = np.mean(pre_sleep_peak_averages)\n",
    "    avg_post_sleep_reactivation = np.mean(post_sleep_peak_averages)\n",
    "    \n",
    "    # Overall average peak reactivation strength for normalization\n",
    "    all_peak_averages = np.concatenate((pre_sleep_peak_averages, post_sleep_peak_averages))\n",
    "    overall_average_reactivation = np.mean(all_peak_averages)\n",
    "    \n",
    "    # Calculate the reactivation strength difference and normalize\n",
    "    reactivation_strength_difference = (avg_post_sleep_reactivation - avg_pre_sleep_reactivation)\n",
    "    \n",
    "    # Avoid division by zero if there are no peaks detected in both sessions\n",
    "    if overall_average_reactivation != 0:\n",
    "        normalized_reactivation_strength_difference = reactivation_strength_difference / overall_average_reactivation\n",
    "    else:\n",
    "        normalized_reactivation_strength_difference = 0\n",
    "    \n",
    "    reactivation_rates_A013_day13.append(normalized_reactivation_strength_difference)\n",
    "\n",
    "# The reactivation_rates list now contains the reactivation rate for each pair of pre-sleep and post-sleep arrays\n",
    "print(\"Reactivation Rates:\", reactivation_rates_A013_day13)"
   ]
  },
  {
   "cell_type": "code",
   "execution_count": 77,
   "id": "49b8244e-be34-4ccd-a3a5-d4949155fffd",
   "metadata": {},
   "outputs": [],
   "source": [
    "Peak_reactivation_CA2_A013_day13 = reactivation_rates_A013_day13"
   ]
  },
  {
   "attachments": {},
   "cell_type": "markdown",
   "id": "df0d4944-7e93-458e-9dfa-01594a99c252",
   "metadata": {
    "jp-MarkdownHeadingCollapsed": true
   },
   "source": [
    "## A012_day15\n"
   ]
  },
  {
   "cell_type": "code",
   "execution_count": 79,
   "id": "8976e290-8508-4e59-8cf7-8457f72d3c1b",
   "metadata": {},
   "outputs": [],
   "source": [
    "project_path='D:/Research Topic/tristan/step10_olivadata'\n",
    "\n",
    "mice_name = 'A012_day15'\n",
    "\n",
    "assembly_react_A012_day15 = AssemblyReact(\n",
    "    project_path=project_path,\n",
    "    mice_name= mice_name,\n",
    "    brainRegion=\"CA2-CA1\",\n",
    "    putativeCellType=\"pyr\",\n",
    "    z_mat_dt=0.025,\n",
    "    )"
   ]
  },
  {
   "cell_type": "code",
   "execution_count": 80,
   "id": "7926ae46-8fa0-47ad-8c05-f71a733900b8",
   "metadata": {},
   "outputs": [
    {
     "name": "stderr",
     "output_type": "stream",
     "text": [
      "C:\\Users\\ASUS\\anaconda3\\lib\\site-packages\\nelpy\\core\\_eventarray.py:996: UserWarning: ignoring events outside of eventarray support\n"
     ]
    },
    {
     "data": {
      "text/plain": [
       "<AssemblyReact: 84 units> of length 5:13:52:900 hours"
      ]
     },
     "execution_count": 80,
     "metadata": {},
     "output_type": "execute_result"
    }
   ],
   "source": [
    "assembly_react_A012_day15.load_data()\n",
    "assembly_react_A012_day15"
   ]
  },
  {
   "cell_type": "code",
   "execution_count": 81,
   "id": "01561ddf-70b4-4df6-a6e4-f05391a919a6",
   "metadata": {},
   "outputs": [],
   "source": [
    "assembly_react_A012_day15.restrict_epochs_to_pre_task_post()"
   ]
  },
  {
   "cell_type": "code",
   "execution_count": 82,
   "id": "bcde9304-3993-4b4b-98d8-e740db4e4fec",
   "metadata": {},
   "outputs": [
    {
     "data": {
      "text/html": [
       "<div>\n",
       "<style scoped>\n",
       "    .dataframe tbody tr th:only-of-type {\n",
       "        vertical-align: middle;\n",
       "    }\n",
       "\n",
       "    .dataframe tbody tr th {\n",
       "        vertical-align: top;\n",
       "    }\n",
       "\n",
       "    .dataframe thead th {\n",
       "        text-align: right;\n",
       "    }\n",
       "</style>\n",
       "<table border=\"1\" class=\"dataframe\">\n",
       "  <thead>\n",
       "    <tr style=\"text-align: right;\">\n",
       "      <th></th>\n",
       "      <th>Cage_or_Maze</th>\n",
       "      <th>Start_Time</th>\n",
       "      <th>End_Time</th>\n",
       "    </tr>\n",
       "  </thead>\n",
       "  <tbody>\n",
       "    <tr>\n",
       "      <th>4</th>\n",
       "      <td>rest_pre</td>\n",
       "      <td>4319.833333</td>\n",
       "      <td>6962.466667</td>\n",
       "    </tr>\n",
       "    <tr>\n",
       "      <th>5</th>\n",
       "      <td>2novel_exposure</td>\n",
       "      <td>6962.466667</td>\n",
       "      <td>7207.216667</td>\n",
       "    </tr>\n",
       "    <tr>\n",
       "      <th>7</th>\n",
       "      <td>rest_post2</td>\n",
       "      <td>7509.900000</td>\n",
       "      <td>12106.666667</td>\n",
       "    </tr>\n",
       "  </tbody>\n",
       "</table>\n",
       "</div>"
      ],
      "text/plain": [
       "      Cage_or_Maze   Start_Time      End_Time\n",
       "4         rest_pre  4319.833333   6962.466667\n",
       "5  2novel_exposure  6962.466667   7207.216667\n",
       "7       rest_post2  7509.900000  12106.666667"
      ]
     },
     "execution_count": 82,
     "metadata": {},
     "output_type": "execute_result"
    }
   ],
   "source": [
    "assembly_react_A012_day15.epoch_df"
   ]
  },
  {
   "cell_type": "code",
   "execution_count": 83,
   "id": "9d926502-44ee-4bb1-ac6d-673d8b3cfed1",
   "metadata": {},
   "outputs": [
    {
     "data": {
      "text/plain": [
       "<SpikeTrainArray at 0x21b992716f0: 84 units (10 segments)> at 30000 Hz"
      ]
     },
     "execution_count": 83,
     "metadata": {},
     "output_type": "execute_result"
    }
   ],
   "source": [
    "assembly_react_A012_day15.st"
   ]
  },
  {
   "cell_type": "code",
   "execution_count": 84,
   "id": "3c215f29-e436-46eb-aca3-b7a5ee90cbef",
   "metadata": {},
   "outputs": [],
   "source": [
    "#x = assembly_react_A012_day15.cell_metrics\n",
    "#x[0:29]"
   ]
  },
  {
   "cell_type": "code",
   "execution_count": 85,
   "id": "6daaca8c-c2a9-4c5b-a5f7-f7afbec41b98",
   "metadata": {},
   "outputs": [],
   "source": [
    "state_dict_A012_day15 = load_SleepState_states(project_path, mice_name)\n",
    "\n",
    "wake_epoch = nel.EpochArray(\n",
    "    state_dict_A012_day15[\"WAKEepisode\"],\n",
    ")\n",
    "\n",
    "nrem_epochs = nel.EpochArray(\n",
    "    state_dict_A012_day15[\"NREMepisode\"],\n",
    ")"
   ]
  },
  {
   "cell_type": "code",
   "execution_count": 86,
   "id": "1cc6aaf2-f982-46d3-b3d5-ba4cbc5fac2f",
   "metadata": {},
   "outputs": [
    {
     "data": {
      "image/png": "[encoded data removed]",
      "text/plain": [
       "<Figure size 1000x400 with 9 Axes>"
      ]
     },
     "metadata": {},
     "output_type": "display_data"
    }
   ],
   "source": [
    "assembly_react_A012_day15.get_weights(epoch= assembly_react_A012_day15.epochs[1] & wake_epoch)\n",
    "assembly_react_A012_day15.plot()\n",
    "plt.show()"
   ]
  },
  {
   "cell_type": "code",
   "execution_count": 87,
   "id": "34b1b73e-8aae-43f6-88e0-3fa19e510603",
   "metadata": {},
   "outputs": [
    {
     "name": "stderr",
     "output_type": "stream",
     "text": [
      "C:\\Users\\ASUS\\anaconda3\\lib\\site-packages\\nelpy\\core\\_analogsignalarray.py:420: UserWarning: creating support from abscissa_vals and sampling rate, fs!\n",
      "C:\\Users\\ASUS\\anaconda3\\lib\\site-packages\\nelpy\\utils.py:842: UserWarning: some steps in the data are smaller than the requested step size.\n",
      "C:\\Users\\ASUS\\anaconda3\\lib\\site-packages\\nelpy\\core\\_analogsignalarray.py:420: UserWarning: creating support from abscissa_vals and sampling rate, fs!\n",
      "C:\\Users\\ASUS\\anaconda3\\lib\\site-packages\\nelpy\\utils.py:842: UserWarning: some steps in the data are smaller than the requested step size.\n"
     ]
    }
   ],
   "source": [
    "assembly_act_pre_A012_day15 = assembly_react_A012_day15.get_assembly_act(assembly_react_A012_day15.epochs[0] & nrem_epochs) \n",
    "assembly_act_post_A012_day15 = assembly_react_A012_day15.get_assembly_act(assembly_react_A012_day15.epochs[2] & nrem_epochs) \n",
    "act_pre_sleep_above_A012_day15 = np.where(assembly_act_pre_A012_day15.data[:] > 5, assembly_act_pre_A012_day15.data[:], 0)\n",
    "act_post_sleep_above_A012_day15 = np.where(assembly_act_post_A012_day15.data[:] > 5, assembly_act_post_A012_day15.data[:], 0)"
   ]
  },
  {
   "cell_type": "code",
   "execution_count": 88,
   "id": "acc3144a-6cdb-444f-a196-1a4695782012",
   "metadata": {},
   "outputs": [
    {
     "name": "stdout",
     "output_type": "stream",
     "text": [
      "Reactivation Rates: [0.01907799778351327, 1.8039345571021022, 1.8641923542581582, 0.7500394587591549, -1.7857142857142858, 0.6152642678519273, 2.1289762326176858, 0.09906101834702535, 0.6198254777119151]\n"
     ]
    }
   ],
   "source": [
    "sampling_rate = 1  # Replace with actual rate\n",
    "\n",
    "# Define the duration of each bin in seconds\n",
    "bin_duration = 60\n",
    "reactivation_rates_A012_day15 = []\n",
    "\n",
    "for pre_sleep_data, post_sleep_data in zip(act_pre_sleep_above_A012_day15, act_post_sleep_above_A012_day15):\n",
    "    # Compute peak averages for the current pair of sessions\n",
    "    pre_sleep_peak_averages = compute_peak_averages(pre_sleep_data)\n",
    "    post_sleep_peak_averages = compute_peak_averages(post_sleep_data)\n",
    "    \n",
    "    # Average reactivation strengths\n",
    "    avg_pre_sleep_reactivation = np.mean(pre_sleep_peak_averages)\n",
    "    avg_post_sleep_reactivation = np.mean(post_sleep_peak_averages)\n",
    "    \n",
    "    # Overall average peak reactivation strength for normalization\n",
    "    all_peak_averages = np.concatenate((pre_sleep_peak_averages, post_sleep_peak_averages))\n",
    "    overall_average_reactivation = np.mean(all_peak_averages)\n",
    "    \n",
    "    # Calculate the reactivation strength difference and normalize\n",
    "    reactivation_strength_difference = (avg_post_sleep_reactivation - avg_pre_sleep_reactivation)\n",
    "    \n",
    "    # Avoid division by zero if there are no peaks detected in both sessions\n",
    "    if overall_average_reactivation != 0:\n",
    "        normalized_reactivation_strength_difference = reactivation_strength_difference / overall_average_reactivation\n",
    "    else:\n",
    "        normalized_reactivation_strength_difference = 0\n",
    "    \n",
    "    reactivation_rates_A012_day15.append(normalized_reactivation_strength_difference)\n",
    "\n",
    "# The reactivation_rates list now contains the reactivation rate for each pair of pre-sleep and post-sleep arrays\n",
    "print(\"Reactivation Rates:\", reactivation_rates_A012_day15)"
   ]
  },
  {
   "cell_type": "code",
   "execution_count": 89,
   "id": "5a0ba684-631f-4a5d-b000-549d7f0bc615",
   "metadata": {},
   "outputs": [
    {
     "data": {
      "text/plain": [
       "0.01907799778351327"
      ]
     },
     "execution_count": 89,
     "metadata": {},
     "output_type": "execute_result"
    }
   ],
   "source": [
    "reactivation_rates_A012_day15[0]"
   ]
  },
  {
   "cell_type": "code",
   "execution_count": 90,
   "id": "6eda4f6a-6f80-4765-947d-2dd1bf9a61d3",
   "metadata": {},
   "outputs": [
    {
     "data": {
      "text/plain": [
       "([0.01907799778351327,\n",
       "  1.8641923542581582,\n",
       "  0.7500394587591549,\n",
       "  -1.7857142857142858,\n",
       "  0.6152642678519273],\n",
       " [2.1289762326176858, 0.09906101834702535, 0.6198254777119151],\n",
       " [1.8039345571021022])"
      ]
     },
     "execution_count": 90,
     "metadata": {},
     "output_type": "execute_result"
    }
   ],
   "source": [
    "num_ass = 9\n",
    "Peak_reactivation_CA2_A012_day15 = []  \n",
    "Peak_reactivation_CA1_A012_day15 = []\n",
    "Peak_reactivation_JointCA1_CA2_A012_day15 = []\n",
    "\n",
    "for i in range(num_ass):\n",
    "    x = reactivation_rates_A012_day15[i]\n",
    "    if i == 1:\n",
    "        Peak_reactivation_CA2_A012_day15.append(x)\n",
    "    elif i in {6, 7, 8}:\n",
    "        Peak_reactivation_CA1_A012_day15.append(x)\n",
    "    else:\n",
    "        Peak_reactivation_JointCA1_CA2_A012_day15.append(x)\n",
    "\n",
    "Peak_reactivation_JointCA1_CA2_A012_day15, Peak_reactivation_CA1_A012_day15, Peak_reactivation_CA2_A012_day15"
   ]
  },
  {
   "attachments": {},
   "cell_type": "markdown",
   "id": "5d63fbcd-bcd3-4e6f-832b-7ccd94d94b1a",
   "metadata": {},
   "source": [
    "## A010_day26\n"
   ]
  },
  {
   "cell_type": "code",
   "execution_count": 92,
   "id": "c6991725-a60c-4f7d-b038-1f25330e7edd",
   "metadata": {},
   "outputs": [],
   "source": [
    "project_path='D:/Research Topic/tristan/step10_olivadata'\n",
    "\n",
    "mice_name = 'A010_day26'\n",
    "\n",
    "assembly_react_A010_day26 = AssemblyReact(\n",
    "    project_path=project_path,\n",
    "    mice_name= mice_name,\n",
    "    brainRegion=\"CA2-CA1\",\n",
    "    putativeCellType=\"pyr\",\n",
    "    z_mat_dt=0.025,\n",
    "    )"
   ]
  },
  {
   "cell_type": "code",
   "execution_count": 93,
   "id": "b3002838-12c6-484a-a8ac-4a528a33af6f",
   "metadata": {},
   "outputs": [
    {
     "name": "stderr",
     "output_type": "stream",
     "text": [
      "C:\\Users\\ASUS\\anaconda3\\lib\\site-packages\\nelpy\\core\\_eventarray.py:996: UserWarning: ignoring events outside of eventarray support\n"
     ]
    },
    {
     "data": {
      "text/plain": [
       "<AssemblyReact: 26 units> of length 5:06:05:050 hours"
      ]
     },
     "execution_count": 93,
     "metadata": {},
     "output_type": "execute_result"
    }
   ],
   "source": [
    "assembly_react_A010_day26.load_data()\n",
    "assembly_react_A010_day26"
   ]
  },
  {
   "cell_type": "code",
   "execution_count": 94,
   "id": "7e6c6202-6029-4ac4-b09d-8bc057944cf7",
   "metadata": {},
   "outputs": [],
   "source": [
    "assembly_react_A010_day26.restrict_epochs_to_pre_task_post()"
   ]
  },
  {
   "cell_type": "code",
   "execution_count": 95,
   "id": "8b666e62-12fb-47ac-9d3a-7d98779c9a14",
   "metadata": {},
   "outputs": [
    {
     "data": {
      "text/html": [
       "<div>\n",
       "<style scoped>\n",
       "    .dataframe tbody tr th:only-of-type {\n",
       "        vertical-align: middle;\n",
       "    }\n",
       "\n",
       "    .dataframe tbody tr th {\n",
       "        vertical-align: top;\n",
       "    }\n",
       "\n",
       "    .dataframe thead th {\n",
       "        text-align: right;\n",
       "    }\n",
       "</style>\n",
       "<table border=\"1\" class=\"dataframe\">\n",
       "  <thead>\n",
       "    <tr style=\"text-align: right;\">\n",
       "      <th></th>\n",
       "      <th>Cage_or_Maze</th>\n",
       "      <th>Start_Time</th>\n",
       "      <th>End_Time</th>\n",
       "    </tr>\n",
       "  </thead>\n",
       "  <tbody>\n",
       "    <tr>\n",
       "      <th>4</th>\n",
       "      <td>rest_pre</td>\n",
       "      <td>8177.133333</td>\n",
       "      <td>12620.85</td>\n",
       "    </tr>\n",
       "    <tr>\n",
       "      <th>5</th>\n",
       "      <td>2novel_exposure</td>\n",
       "      <td>12620.850000</td>\n",
       "      <td>12920.05</td>\n",
       "    </tr>\n",
       "    <tr>\n",
       "      <th>7</th>\n",
       "      <td>rest_post2</td>\n",
       "      <td>13236.200000</td>\n",
       "      <td>15553.10</td>\n",
       "    </tr>\n",
       "  </tbody>\n",
       "</table>\n",
       "</div>"
      ],
      "text/plain": [
       "      Cage_or_Maze    Start_Time  End_Time\n",
       "4         rest_pre   8177.133333  12620.85\n",
       "5  2novel_exposure  12620.850000  12920.05\n",
       "7       rest_post2  13236.200000  15553.10"
      ]
     },
     "execution_count": 95,
     "metadata": {},
     "output_type": "execute_result"
    }
   ],
   "source": [
    "assembly_react_A010_day26.epoch_df"
   ]
  },
  {
   "cell_type": "code",
   "execution_count": 96,
   "id": "57fb717d-751e-476f-bfc3-d843d141e29b",
   "metadata": {},
   "outputs": [
    {
     "data": {
      "text/plain": [
       "<SpikeTrainArray at 0x21b88f31150: 26 units (10 segments)> at 30000 Hz"
      ]
     },
     "execution_count": 96,
     "metadata": {},
     "output_type": "execute_result"
    }
   ],
   "source": [
    "assembly_react_A010_day26.st"
   ]
  },
  {
   "cell_type": "code",
   "execution_count": 97,
   "id": "65a99c6f-c947-4610-856b-fe184e49bbf8",
   "metadata": {},
   "outputs": [
    {
     "data": {
      "text/html": [
       "<div>\n",
       "<style scoped>\n",
       "    .dataframe tbody tr th:only-of-type {\n",
       "        vertical-align: middle;\n",
       "    }\n",
       "\n",
       "    .dataframe tbody tr th {\n",
       "        vertical-align: top;\n",
       "    }\n",
       "\n",
       "    .dataframe thead th {\n",
       "        text-align: right;\n",
       "    }\n",
       "</style>\n",
       "<table border=\"1\" class=\"dataframe\">\n",
       "  <thead>\n",
       "    <tr style=\"text-align: right;\">\n",
       "      <th></th>\n",
       "      <th>Type</th>\n",
       "      <th>Region</th>\n",
       "      <th>Modulation</th>\n",
       "      <th>CluID</th>\n",
       "    </tr>\n",
       "  </thead>\n",
       "  <tbody>\n",
       "    <tr>\n",
       "      <th>1</th>\n",
       "      <td>pyr</td>\n",
       "      <td>CA1</td>\n",
       "      <td>negative</td>\n",
       "      <td>1</td>\n",
       "    </tr>\n",
       "    <tr>\n",
       "      <th>32</th>\n",
       "      <td>pyr</td>\n",
       "      <td>CA1</td>\n",
       "      <td>positive</td>\n",
       "      <td>32</td>\n",
       "    </tr>\n",
       "  </tbody>\n",
       "</table>\n",
       "</div>"
      ],
      "text/plain": [
       "   Type Region Modulation  CluID\n",
       "1   pyr    CA1   negative      1\n",
       "32  pyr    CA1   positive     32"
      ]
     },
     "execution_count": 97,
     "metadata": {},
     "output_type": "execute_result"
    }
   ],
   "source": [
    "x = assembly_react_A010_day26.cell_metrics\n",
    "x[24:26]"
   ]
  },
  {
   "cell_type": "code",
   "execution_count": 98,
   "id": "f1042ace-e36c-42db-a314-1bc147f88c88",
   "metadata": {},
   "outputs": [],
   "source": [
    "state_dict_A010_day26 = load_SleepState_states(project_path, mice_name)\n",
    "\n",
    "wake_epoch = nel.EpochArray(\n",
    "    state_dict_A010_day26[\"WAKEepisode\"],\n",
    ")\n",
    "\n",
    "nrem_epochs = nel.EpochArray(\n",
    "    state_dict_A010_day26[\"NREMepisode\"],\n",
    ")"
   ]
  },
  {
   "cell_type": "code",
   "execution_count": 99,
   "id": "f4690b86-6c55-4962-9e58-e57b7417e09c",
   "metadata": {},
   "outputs": [
    {
     "data": {
      "image/png": "[encoded data removed]",
      "text/plain": [
       "<Figure size 600x200 with 5 Axes>"
      ]
     },
     "metadata": {},
     "output_type": "display_data"
    }
   ],
   "source": [
    "assembly_react_A010_day26.get_weights(epoch= assembly_react_A010_day26.epochs[1] & wake_epoch)\n",
    "assembly_react_A010_day26.plot()\n",
    "plt.show()"
   ]
  },
  {
   "cell_type": "code",
   "execution_count": 100,
   "id": "c26da199-e042-4e28-b7b4-ab0963ca6fae",
   "metadata": {},
   "outputs": [
    {
     "name": "stderr",
     "output_type": "stream",
     "text": [
      "C:\\Users\\ASUS\\anaconda3\\lib\\site-packages\\nelpy\\core\\_analogsignalarray.py:420: UserWarning: creating support from abscissa_vals and sampling rate, fs!\n",
      "C:\\Users\\ASUS\\anaconda3\\lib\\site-packages\\nelpy\\utils.py:842: UserWarning: some steps in the data are smaller than the requested step size.\n",
      "C:\\Users\\ASUS\\anaconda3\\lib\\site-packages\\nelpy\\core\\_analogsignalarray.py:420: UserWarning: creating support from abscissa_vals and sampling rate, fs!\n",
      "C:\\Users\\ASUS\\anaconda3\\lib\\site-packages\\nelpy\\utils.py:842: UserWarning: some steps in the data are smaller than the requested step size.\n"
     ]
    }
   ],
   "source": [
    "assembly_act_pre_A010_day26 = assembly_react_A010_day26.get_assembly_act(assembly_react_A010_day26.epochs[0] & nrem_epochs) \n",
    "assembly_act_post_A010_day26 = assembly_react_A010_day26.get_assembly_act(assembly_react_A010_day26.epochs[2] & nrem_epochs) \n",
    "act_pre_sleep_above_A010_day26 = np.where(assembly_act_pre_A010_day26.data[:] > 5, assembly_act_pre_A010_day26.data[:], 0)\n",
    "act_post_sleep_above_A010_day26 = np.where(assembly_act_post_A010_day26.data[:] > 5, assembly_act_post_A010_day26.data[:], 0)"
   ]
  },
  {
   "cell_type": "code",
   "execution_count": 101,
   "id": "f72b5eca-4313-4486-915f-90da6ee20ddc",
   "metadata": {},
   "outputs": [
    {
     "name": "stdout",
     "output_type": "stream",
     "text": [
      "Reactivation Rates: [-0.10289201116867411, -0.060178114589213356, 0.0473029383851538, 0.06106566484486109, 0.19885171566305923]\n"
     ]
    }
   ],
   "source": [
    "sampling_rate = 1  # Replace with actual rate\n",
    "\n",
    "# Define the duration of each bin in seconds\n",
    "bin_duration = 60\n",
    "reactivation_rates_A010_day26 = []\n",
    "\n",
    "for pre_sleep_data, post_sleep_data in zip(act_pre_sleep_above_A010_day26, act_post_sleep_above_A010_day26):\n",
    "    # Compute peak averages for the current pair of sessions\n",
    "    pre_sleep_peak_averages = compute_peak_averages(pre_sleep_data)\n",
    "    post_sleep_peak_averages = compute_peak_averages(post_sleep_data)\n",
    "    \n",
    "    # Average reactivation strengths\n",
    "    avg_pre_sleep_reactivation = np.mean(pre_sleep_peak_averages)\n",
    "    avg_post_sleep_reactivation = np.mean(post_sleep_peak_averages)\n",
    "    \n",
    "    # Overall average peak reactivation strength for normalization\n",
    "    all_peak_averages = np.concatenate((pre_sleep_peak_averages, post_sleep_peak_averages))\n",
    "    overall_average_reactivation = np.mean(all_peak_averages)\n",
    "    \n",
    "    # Calculate the reactivation strength difference and normalize\n",
    "    reactivation_strength_difference = (avg_post_sleep_reactivation - avg_pre_sleep_reactivation)\n",
    "    \n",
    "    # Avoid division by zero if there are no peaks detected in both sessions\n",
    "    if overall_average_reactivation != 0:\n",
    "        normalized_reactivation_strength_difference = reactivation_strength_difference / overall_average_reactivation\n",
    "    else:\n",
    "        normalized_reactivation_strength_difference = 0\n",
    "    \n",
    "    reactivation_rates_A010_day26.append(normalized_reactivation_strength_difference)\n",
    "\n",
    "# The reactivation_rates list now contains the reactivation rate for each pair of pre-sleep and post-sleep arrays\n",
    "print(\"Reactivation Rates:\", reactivation_rates_A010_day26)"
   ]
  },
  {
   "cell_type": "code",
   "execution_count": 102,
   "id": "9a97297a-fe82-466a-965f-8fa955c727f1",
   "metadata": {},
   "outputs": [],
   "source": [
    "Peak_reactivation_CA2_A010_day26 = reactivation_rates_A010_day26"
   ]
  },
  {
   "cell_type": "markdown",
   "id": "4ccbc137-d619-46dd-a26f-ce4741c9d80b",
   "metadata": {},
   "source": [
    "## A010_day14"
   ]
  },
  {
   "cell_type": "code",
   "execution_count": 104,
   "id": "599744e7-699b-4d43-8f06-d2a143385baa",
   "metadata": {},
   "outputs": [],
   "source": [
    "project_path='D:/Research Topic/tristan/step10_olivadata'\n",
    "\n",
    "mice_name = 'A010_day14'\n",
    "\n",
    "assembly_react_A010_day14 = AssemblyReact(\n",
    "    project_path=project_path,\n",
    "    mice_name= mice_name,\n",
    "    brainRegion=\"CA2-CA1\",\n",
    "    putativeCellType=\"pyr\",\n",
    "    z_mat_dt=0.025,\n",
    "    )"
   ]
  },
  {
   "cell_type": "code",
   "execution_count": 105,
   "id": "f7595e87-c1d7-469f-b3aa-ee80af157c83",
   "metadata": {},
   "outputs": [
    {
     "name": "stderr",
     "output_type": "stream",
     "text": [
      "C:\\Users\\ASUS\\anaconda3\\lib\\site-packages\\nelpy\\core\\_eventarray.py:996: UserWarning: ignoring events outside of eventarray support\n"
     ]
    },
    {
     "data": {
      "text/plain": [
       "<AssemblyReact: 34 units> of length 7:28:53:100 hours"
      ]
     },
     "execution_count": 105,
     "metadata": {},
     "output_type": "execute_result"
    }
   ],
   "source": [
    "assembly_react_A010_day14.load_data()\n",
    "assembly_react_A010_day14"
   ]
  },
  {
   "cell_type": "code",
   "execution_count": 106,
   "id": "75b844fd-abc1-4964-b580-02bcb905fe3a",
   "metadata": {},
   "outputs": [],
   "source": [
    "assembly_react_A010_day14.restrict_epochs_to_pre_task_post()"
   ]
  },
  {
   "cell_type": "code",
   "execution_count": 107,
   "id": "200cddb2-26c8-4f3a-835a-e7e70831730d",
   "metadata": {},
   "outputs": [
    {
     "data": {
      "text/html": [
       "<div>\n",
       "<style scoped>\n",
       "    .dataframe tbody tr th:only-of-type {\n",
       "        vertical-align: middle;\n",
       "    }\n",
       "\n",
       "    .dataframe tbody tr th {\n",
       "        vertical-align: top;\n",
       "    }\n",
       "\n",
       "    .dataframe thead th {\n",
       "        text-align: right;\n",
       "    }\n",
       "</style>\n",
       "<table border=\"1\" class=\"dataframe\">\n",
       "  <thead>\n",
       "    <tr style=\"text-align: right;\">\n",
       "      <th></th>\n",
       "      <th>Cage_or_Maze</th>\n",
       "      <th>Start_Time</th>\n",
       "      <th>End_Time</th>\n",
       "    </tr>\n",
       "  </thead>\n",
       "  <tbody>\n",
       "    <tr>\n",
       "      <th>4</th>\n",
       "      <td>rest_pre</td>\n",
       "      <td>9647.350000</td>\n",
       "      <td>16040.783333</td>\n",
       "    </tr>\n",
       "    <tr>\n",
       "      <th>5</th>\n",
       "      <td>2novel_exposure</td>\n",
       "      <td>16040.783333</td>\n",
       "      <td>16652.183333</td>\n",
       "    </tr>\n",
       "    <tr>\n",
       "      <th>7</th>\n",
       "      <td>rest_post2</td>\n",
       "      <td>17231.616667</td>\n",
       "      <td>22221.733333</td>\n",
       "    </tr>\n",
       "  </tbody>\n",
       "</table>\n",
       "</div>"
      ],
      "text/plain": [
       "      Cage_or_Maze    Start_Time      End_Time\n",
       "4         rest_pre   9647.350000  16040.783333\n",
       "5  2novel_exposure  16040.783333  16652.183333\n",
       "7       rest_post2  17231.616667  22221.733333"
      ]
     },
     "execution_count": 107,
     "metadata": {},
     "output_type": "execute_result"
    }
   ],
   "source": [
    "assembly_react_A010_day14.epoch_df"
   ]
  },
  {
   "cell_type": "code",
   "execution_count": 108,
   "id": "a6f187c7-3be1-4747-a607-bc61cf2a6a24",
   "metadata": {},
   "outputs": [
    {
     "data": {
      "text/plain": [
       "<SpikeTrainArray at 0x21b8a442440: 34 units (10 segments)> at 30000 Hz"
      ]
     },
     "execution_count": 108,
     "metadata": {},
     "output_type": "execute_result"
    }
   ],
   "source": [
    "assembly_react_A010_day14.st"
   ]
  },
  {
   "cell_type": "code",
   "execution_count": 109,
   "id": "a7fa734d-6ecd-4f5a-bc90-2c0d12733bd3",
   "metadata": {},
   "outputs": [
    {
     "data": {
      "text/html": [
       "<div>\n",
       "<style scoped>\n",
       "    .dataframe tbody tr th:only-of-type {\n",
       "        vertical-align: middle;\n",
       "    }\n",
       "\n",
       "    .dataframe tbody tr th {\n",
       "        vertical-align: top;\n",
       "    }\n",
       "\n",
       "    .dataframe thead th {\n",
       "        text-align: right;\n",
       "    }\n",
       "</style>\n",
       "<table border=\"1\" class=\"dataframe\">\n",
       "  <thead>\n",
       "    <tr style=\"text-align: right;\">\n",
       "      <th></th>\n",
       "      <th>Type</th>\n",
       "      <th>Region</th>\n",
       "      <th>Modulation</th>\n",
       "      <th>CluID</th>\n",
       "    </tr>\n",
       "  </thead>\n",
       "  <tbody>\n",
       "    <tr>\n",
       "      <th>0</th>\n",
       "      <td>pyr</td>\n",
       "      <td>CA2</td>\n",
       "      <td>positive</td>\n",
       "      <td>0</td>\n",
       "    </tr>\n",
       "    <tr>\n",
       "      <th>1</th>\n",
       "      <td>pyr</td>\n",
       "      <td>CA2</td>\n",
       "      <td>positive</td>\n",
       "      <td>1</td>\n",
       "    </tr>\n",
       "    <tr>\n",
       "      <th>2</th>\n",
       "      <td>pyr</td>\n",
       "      <td>CA2</td>\n",
       "      <td>positive</td>\n",
       "      <td>2</td>\n",
       "    </tr>\n",
       "    <tr>\n",
       "      <th>3</th>\n",
       "      <td>pyr</td>\n",
       "      <td>CA2</td>\n",
       "      <td>positive</td>\n",
       "      <td>3</td>\n",
       "    </tr>\n",
       "    <tr>\n",
       "      <th>4</th>\n",
       "      <td>pyr</td>\n",
       "      <td>CA2</td>\n",
       "      <td>positive</td>\n",
       "      <td>4</td>\n",
       "    </tr>\n",
       "    <tr>\n",
       "      <th>5</th>\n",
       "      <td>pyr</td>\n",
       "      <td>CA2</td>\n",
       "      <td>positive</td>\n",
       "      <td>5</td>\n",
       "    </tr>\n",
       "    <tr>\n",
       "      <th>6</th>\n",
       "      <td>pyr</td>\n",
       "      <td>CA2</td>\n",
       "      <td>positive</td>\n",
       "      <td>6</td>\n",
       "    </tr>\n",
       "    <tr>\n",
       "      <th>8</th>\n",
       "      <td>pyr</td>\n",
       "      <td>CA2</td>\n",
       "      <td>positive</td>\n",
       "      <td>8</td>\n",
       "    </tr>\n",
       "    <tr>\n",
       "      <th>11</th>\n",
       "      <td>pyr</td>\n",
       "      <td>CA2</td>\n",
       "      <td>positive</td>\n",
       "      <td>11</td>\n",
       "    </tr>\n",
       "    <tr>\n",
       "      <th>13</th>\n",
       "      <td>pyr</td>\n",
       "      <td>CA2</td>\n",
       "      <td>positive</td>\n",
       "      <td>13</td>\n",
       "    </tr>\n",
       "    <tr>\n",
       "      <th>15</th>\n",
       "      <td>pyr</td>\n",
       "      <td>CA2</td>\n",
       "      <td>positive</td>\n",
       "      <td>15</td>\n",
       "    </tr>\n",
       "    <tr>\n",
       "      <th>19</th>\n",
       "      <td>pyr</td>\n",
       "      <td>CA2</td>\n",
       "      <td>positive</td>\n",
       "      <td>19</td>\n",
       "    </tr>\n",
       "    <tr>\n",
       "      <th>20</th>\n",
       "      <td>pyr</td>\n",
       "      <td>CA2</td>\n",
       "      <td>positive</td>\n",
       "      <td>20</td>\n",
       "    </tr>\n",
       "    <tr>\n",
       "      <th>21</th>\n",
       "      <td>pyr</td>\n",
       "      <td>CA2</td>\n",
       "      <td>positive</td>\n",
       "      <td>21</td>\n",
       "    </tr>\n",
       "    <tr>\n",
       "      <th>23</th>\n",
       "      <td>pyr</td>\n",
       "      <td>CA2</td>\n",
       "      <td>positive</td>\n",
       "      <td>23</td>\n",
       "    </tr>\n",
       "    <tr>\n",
       "      <th>24</th>\n",
       "      <td>pyr</td>\n",
       "      <td>CA2</td>\n",
       "      <td>positive</td>\n",
       "      <td>24</td>\n",
       "    </tr>\n",
       "    <tr>\n",
       "      <th>26</th>\n",
       "      <td>pyr</td>\n",
       "      <td>CA2</td>\n",
       "      <td>positive</td>\n",
       "      <td>26</td>\n",
       "    </tr>\n",
       "    <tr>\n",
       "      <th>27</th>\n",
       "      <td>pyr</td>\n",
       "      <td>CA2</td>\n",
       "      <td>positive</td>\n",
       "      <td>27</td>\n",
       "    </tr>\n",
       "    <tr>\n",
       "      <th>28</th>\n",
       "      <td>pyr</td>\n",
       "      <td>CA2</td>\n",
       "      <td>positive</td>\n",
       "      <td>28</td>\n",
       "    </tr>\n",
       "    <tr>\n",
       "      <th>31</th>\n",
       "      <td>pyr</td>\n",
       "      <td>CA2</td>\n",
       "      <td>positive</td>\n",
       "      <td>31</td>\n",
       "    </tr>\n",
       "    <tr>\n",
       "      <th>32</th>\n",
       "      <td>pyr</td>\n",
       "      <td>CA2</td>\n",
       "      <td>positive</td>\n",
       "      <td>32</td>\n",
       "    </tr>\n",
       "    <tr>\n",
       "      <th>34</th>\n",
       "      <td>pyr</td>\n",
       "      <td>CA2</td>\n",
       "      <td>positive</td>\n",
       "      <td>34</td>\n",
       "    </tr>\n",
       "    <tr>\n",
       "      <th>37</th>\n",
       "      <td>pyr</td>\n",
       "      <td>CA2</td>\n",
       "      <td>positive</td>\n",
       "      <td>37</td>\n",
       "    </tr>\n",
       "    <tr>\n",
       "      <th>38</th>\n",
       "      <td>pyr</td>\n",
       "      <td>CA2</td>\n",
       "      <td>positive</td>\n",
       "      <td>38</td>\n",
       "    </tr>\n",
       "    <tr>\n",
       "      <th>40</th>\n",
       "      <td>pyr</td>\n",
       "      <td>CA2</td>\n",
       "      <td>positive</td>\n",
       "      <td>40</td>\n",
       "    </tr>\n",
       "    <tr>\n",
       "      <th>41</th>\n",
       "      <td>pyr</td>\n",
       "      <td>CA2</td>\n",
       "      <td>positive</td>\n",
       "      <td>41</td>\n",
       "    </tr>\n",
       "    <tr>\n",
       "      <th>7</th>\n",
       "      <td>pyr</td>\n",
       "      <td>CA1</td>\n",
       "      <td>negative</td>\n",
       "      <td>7</td>\n",
       "    </tr>\n",
       "    <tr>\n",
       "      <th>14</th>\n",
       "      <td>pyr</td>\n",
       "      <td>CA1</td>\n",
       "      <td>negative</td>\n",
       "      <td>14</td>\n",
       "    </tr>\n",
       "    <tr>\n",
       "      <th>16</th>\n",
       "      <td>pyr</td>\n",
       "      <td>CA1</td>\n",
       "      <td>negative</td>\n",
       "      <td>16</td>\n",
       "    </tr>\n",
       "    <tr>\n",
       "      <th>29</th>\n",
       "      <td>pyr</td>\n",
       "      <td>CA1</td>\n",
       "      <td>positive</td>\n",
       "      <td>29</td>\n",
       "    </tr>\n",
       "    <tr>\n",
       "      <th>35</th>\n",
       "      <td>pyr</td>\n",
       "      <td>CA1</td>\n",
       "      <td>positive</td>\n",
       "      <td>35</td>\n",
       "    </tr>\n",
       "    <tr>\n",
       "      <th>39</th>\n",
       "      <td>pyr</td>\n",
       "      <td>CA1</td>\n",
       "      <td>positive</td>\n",
       "      <td>39</td>\n",
       "    </tr>\n",
       "    <tr>\n",
       "      <th>42</th>\n",
       "      <td>pyr</td>\n",
       "      <td>CA1</td>\n",
       "      <td>positive</td>\n",
       "      <td>42</td>\n",
       "    </tr>\n",
       "    <tr>\n",
       "      <th>43</th>\n",
       "      <td>pyr</td>\n",
       "      <td>CA1</td>\n",
       "      <td>negative</td>\n",
       "      <td>43</td>\n",
       "    </tr>\n",
       "  </tbody>\n",
       "</table>\n",
       "</div>"
      ],
      "text/plain": [
       "   Type Region Modulation  CluID\n",
       "0   pyr    CA2   positive      0\n",
       "1   pyr    CA2   positive      1\n",
       "2   pyr    CA2   positive      2\n",
       "3   pyr    CA2   positive      3\n",
       "4   pyr    CA2   positive      4\n",
       "5   pyr    CA2   positive      5\n",
       "6   pyr    CA2   positive      6\n",
       "8   pyr    CA2   positive      8\n",
       "11  pyr    CA2   positive     11\n",
       "13  pyr    CA2   positive     13\n",
       "15  pyr    CA2   positive     15\n",
       "19  pyr    CA2   positive     19\n",
       "20  pyr    CA2   positive     20\n",
       "21  pyr    CA2   positive     21\n",
       "23  pyr    CA2   positive     23\n",
       "24  pyr    CA2   positive     24\n",
       "26  pyr    CA2   positive     26\n",
       "27  pyr    CA2   positive     27\n",
       "28  pyr    CA2   positive     28\n",
       "31  pyr    CA2   positive     31\n",
       "32  pyr    CA2   positive     32\n",
       "34  pyr    CA2   positive     34\n",
       "37  pyr    CA2   positive     37\n",
       "38  pyr    CA2   positive     38\n",
       "40  pyr    CA2   positive     40\n",
       "41  pyr    CA2   positive     41\n",
       "7   pyr    CA1   negative      7\n",
       "14  pyr    CA1   negative     14\n",
       "16  pyr    CA1   negative     16\n",
       "29  pyr    CA1   positive     29\n",
       "35  pyr    CA1   positive     35\n",
       "39  pyr    CA1   positive     39\n",
       "42  pyr    CA1   positive     42\n",
       "43  pyr    CA1   negative     43"
      ]
     },
     "execution_count": 109,
     "metadata": {},
     "output_type": "execute_result"
    }
   ],
   "source": [
    "assembly_react_A010_day14.cell_metrics"
   ]
  },
  {
   "cell_type": "code",
   "execution_count": 110,
   "id": "2eb67036-4fb5-49dc-a02f-d2c922cc65ac",
   "metadata": {},
   "outputs": [],
   "source": [
    "state_dict_A010_day14 = load_SleepState_states(project_path, mice_name)\n",
    "\n",
    "wake_epoch = nel.EpochArray(\n",
    "    state_dict_A010_day14[\"WAKEepisode\"],\n",
    ")\n",
    "\n",
    "nrem_epochs = nel.EpochArray(\n",
    "    state_dict_A010_day14[\"NREMepisode\"],\n",
    ")"
   ]
  },
  {
   "cell_type": "code",
   "execution_count": 111,
   "id": "ee7e46ce-e893-44d2-979c-f269a511317a",
   "metadata": {},
   "outputs": [
    {
     "data": {
      "image/png": "[encoded data removed]",
      "text/plain": [
       "<Figure size 700x300 with 6 Axes>"
      ]
     },
     "metadata": {},
     "output_type": "display_data"
    }
   ],
   "source": [
    "assembly_react_A010_day14.get_weights(epoch= assembly_react_A010_day14.epochs[1] & wake_epoch)\n",
    "assembly_react_A010_day14.plot()\n",
    "plt.show()"
   ]
  },
  {
   "cell_type": "code",
   "execution_count": 112,
   "id": "bc502f2c-9836-4486-b89f-715d3c5e803b",
   "metadata": {},
   "outputs": [
    {
     "name": "stderr",
     "output_type": "stream",
     "text": [
      "C:\\Users\\ASUS\\anaconda3\\lib\\site-packages\\nelpy\\core\\_analogsignalarray.py:420: UserWarning: creating support from abscissa_vals and sampling rate, fs!\n",
      "C:\\Users\\ASUS\\anaconda3\\lib\\site-packages\\nelpy\\utils.py:842: UserWarning: some steps in the data are smaller than the requested step size.\n",
      "C:\\Users\\ASUS\\anaconda3\\lib\\site-packages\\nelpy\\core\\_analogsignalarray.py:420: UserWarning: creating support from abscissa_vals and sampling rate, fs!\n",
      "C:\\Users\\ASUS\\anaconda3\\lib\\site-packages\\nelpy\\utils.py:842: UserWarning: some steps in the data are smaller than the requested step size.\n"
     ]
    }
   ],
   "source": [
    "assembly_act_pre_A010_day14 = assembly_react_A010_day14.get_assembly_act(assembly_react_A010_day14.epochs[0] & nrem_epochs) \n",
    "assembly_act_post_A010_day14 = assembly_react_A010_day14.get_assembly_act(assembly_react_A010_day14.epochs[2] & nrem_epochs) \n",
    "act_pre_sleep_above_A010_day14 = np.where(assembly_act_pre_A010_day14.data[:] > 5, assembly_act_pre_A010_day14.data[:], 0)\n",
    "act_post_sleep_above_A010_day14 = np.where(assembly_act_post_A010_day14.data[:] > 5, assembly_act_post_A010_day14.data[:], 0)"
   ]
  },
  {
   "cell_type": "code",
   "execution_count": 113,
   "id": "e0754ea8-b6c1-4c25-b8c6-1083a40e1f69",
   "metadata": {},
   "outputs": [
    {
     "name": "stdout",
     "output_type": "stream",
     "text": [
      "Reactivation Rates: [-0.8572012704404534, -0.6762113858132307, 0.05140019369884638, 0.02223094064129389, 0.3598948031678654, 0.033002482024668545]\n"
     ]
    }
   ],
   "source": [
    "sampling_rate = 1  # Replace with actual rate\n",
    "\n",
    "# Define the duration of each bin in seconds\n",
    "bin_duration = 60\n",
    "reactivation_rates_A010_day14 = []\n",
    "\n",
    "for pre_sleep_data, post_sleep_data in zip(act_pre_sleep_above_A010_day14, act_post_sleep_above_A010_day14):\n",
    "    # Compute peak averages for the current pair of sessions\n",
    "    pre_sleep_peak_averages = compute_peak_averages(pre_sleep_data)\n",
    "    post_sleep_peak_averages = compute_peak_averages(post_sleep_data)\n",
    "    \n",
    "    # Average reactivation strengths\n",
    "    avg_pre_sleep_reactivation = np.mean(pre_sleep_peak_averages)\n",
    "    avg_post_sleep_reactivation = np.mean(post_sleep_peak_averages)\n",
    "    \n",
    "    # Overall average peak reactivation strength for normalization\n",
    "    all_peak_averages = np.concatenate((pre_sleep_peak_averages, post_sleep_peak_averages))\n",
    "    overall_average_reactivation = np.mean(all_peak_averages)\n",
    "    \n",
    "    # Calculate the reactivation strength difference and normalize\n",
    "    reactivation_strength_difference = (avg_post_sleep_reactivation - avg_pre_sleep_reactivation)\n",
    "    \n",
    "    # Avoid division by zero if there are no peaks detected in both sessions\n",
    "    if overall_average_reactivation != 0:\n",
    "        normalized_reactivation_strength_difference = reactivation_strength_difference / overall_average_reactivation\n",
    "    else:\n",
    "        normalized_reactivation_strength_difference = 0\n",
    "    \n",
    "    reactivation_rates_A010_day14.append(normalized_reactivation_strength_difference)\n",
    "\n",
    "# The reactivation_rates list now contains the reactivation rate for each pair of pre-sleep and post-sleep arrays\n",
    "print(\"Reactivation Rates:\", reactivation_rates_A010_day14)"
   ]
  },
  {
   "cell_type": "code",
   "execution_count": null,
   "id": "88b65ad7-fe47-4757-a8e2-67b19b94ac65",
   "metadata": {},
   "outputs": [],
   "source": []
  },
  {
   "cell_type": "code",
   "execution_count": null,
   "id": "4d9dbc8c-e90b-4531-a231-77685cd363e6",
   "metadata": {},
   "outputs": [],
   "source": []
  },
  {
   "cell_type": "code",
   "execution_count": 114,
   "id": "2feb20d0-95f2-4c33-b2b2-8532f11382b0",
   "metadata": {},
   "outputs": [
    {
     "data": {
      "text/plain": [
       "([-0.8572012704404534,\n",
       "  -0.6762113858132307,\n",
       "  0.3598948031678654,\n",
       "  0.033002482024668545],\n",
       " [0.05140019369884638, 0.02223094064129389])"
      ]
     },
     "execution_count": 114,
     "metadata": {},
     "output_type": "execute_result"
    }
   ],
   "source": [
    "num_ass = 6\n",
    "Peak_reactivation_CA2_A010_day14 = [] \n",
    "Peak_reactivation_JointCA1_CA2_A010_day14 = []\n",
    "\n",
    "for i in range(num_ass):\n",
    "    reactivation_value = reactivation_rates_A010_day14[i]\n",
    "    if i in {2,3}:\n",
    "        Peak_reactivation_JointCA1_CA2_A010_day14.append(reactivation_value)\n",
    "    else:\n",
    "        Peak_reactivation_CA2_A010_day14.append(reactivation_value)\n",
    "\n",
    "Peak_reactivation_CA2_A010_day14, Peak_reactivation_JointCA1_CA2_A010_day14"
   ]
  },
  {
   "cell_type": "markdown",
   "id": "a9f471ec-820f-413e-8b57-c3116722a8a3",
   "metadata": {},
   "source": [
    "## Peak Reactivation Strength"
   ]
  },
  {
   "cell_type": "code",
   "execution_count": 116,
   "id": "d8c1b654-50a6-4847-a661-6d3a67c1cb44",
   "metadata": {},
   "outputs": [],
   "source": [
    "CA2_react = [*Peak_reactivation_CA2_A010_day14, *Peak_reactivation_CA2_A010_day26, *Peak_reactivation_CA2_A012_day15,\n",
    "             *Peak_reactivation_CA2_A013_day13,*Peak_reactivation_CA2_A013_day15, *Peak_reactivation_CA2_A013_day7]\n",
    "#CA3_react = [Peak_reactivation_CA3_A015_day12]\n",
    "CA2_CA3_react = [*Peak_reactivation_Joint_A013_day7, Peak_reactivation_Joint_A015_day12]\n",
    "CA1_react = [*Peak_reactivation_CA1_A012_day15]\n",
    "CA1_CA2_react = [*Peak_reactivation_JointCA1_CA2_A012_day15]\n",
    "\n",
    "#A015_DAY 8 IS WEIRED CAUSE IT DOESNT RESTRICT TO WAKE EPOCH"
   ]
  },
  {
   "cell_type": "code",
   "execution_count": 117,
   "id": "2552fe49-9903-43fd-8604-f5f9b139ed58",
   "metadata": {},
   "outputs": [],
   "source": [
    "df = dict(CA2 = CA2_react,\n",
    "      CA2_CA3 = CA2_CA3_react,\n",
    "      CA1 = CA1_react,\n",
    "CA1_CA2 = CA1_CA2_react)\n",
    "Peak_Reactivation_Strength = pd.DataFrame(dict([ (k,pd.Series(v)) for k,v in df.items() ]))"
   ]
  },
  {
   "cell_type": "code",
   "execution_count": 118,
   "id": "09e9a507-e4fa-4237-9e60-77aa782945ef",
   "metadata": {},
   "outputs": [
    {
     "data": {
      "text/plain": [
       "{'CA2': [-0.8572012704404534,\n",
       "  -0.6762113858132307,\n",
       "  0.3598948031678654,\n",
       "  0.033002482024668545,\n",
       "  -0.10289201116867411,\n",
       "  -0.060178114589213356,\n",
       "  0.0473029383851538,\n",
       "  0.06106566484486109,\n",
       "  0.19885171566305923,\n",
       "  1.8039345571021022,\n",
       "  0.0560211536016921,\n",
       "  -0.18975687088745094,\n",
       "  -0.10351863317044314,\n",
       "  0.05507283863800106,\n",
       "  -0.006882449600860075,\n",
       "  0.28784963427529714,\n",
       "  -0.053465930921220706,\n",
       "  0.057149133833485334,\n",
       "  0.1811033722279208,\n",
       "  0.25848439118891825,\n",
       "  0.2630996726338623,\n",
       "  -0.24926244172527892,\n",
       "  0.2176521915758094],\n",
       " 'CA2_CA3': [0.29890035295887857,\n",
       "  -0.04557948866417958,\n",
       "  0.37155990316280496,\n",
       "  0.06947948396189098],\n",
       " 'CA1': [2.1289762326176858, 0.09906101834702535, 0.6198254777119151],\n",
       " 'CA1_CA2': [0.01907799778351327,\n",
       "  1.8641923542581582,\n",
       "  0.7500394587591549,\n",
       "  -1.7857142857142858,\n",
       "  0.6152642678519273]}"
      ]
     },
     "execution_count": 118,
     "metadata": {},
     "output_type": "execute_result"
    }
   ],
   "source": [
    "df"
   ]
  },
  {
   "cell_type": "code",
   "execution_count": 119,
   "id": "19539692-13a6-47c2-a384-66571724dd49",
   "metadata": {},
   "outputs": [
    {
     "data": {
      "text/html": [
       "<div>\n",
       "<style scoped>\n",
       "    .dataframe tbody tr th:only-of-type {\n",
       "        vertical-align: middle;\n",
       "    }\n",
       "\n",
       "    .dataframe tbody tr th {\n",
       "        vertical-align: top;\n",
       "    }\n",
       "\n",
       "    .dataframe thead th {\n",
       "        text-align: right;\n",
       "    }\n",
       "</style>\n",
       "<table border=\"1\" class=\"dataframe\">\n",
       "  <thead>\n",
       "    <tr style=\"text-align: right;\">\n",
       "      <th></th>\n",
       "      <th>CA2</th>\n",
       "      <th>CA2_CA3</th>\n",
       "      <th>CA1</th>\n",
       "      <th>CA1_CA2</th>\n",
       "    </tr>\n",
       "  </thead>\n",
       "  <tbody>\n",
       "    <tr>\n",
       "      <th>0</th>\n",
       "      <td>-0.857201</td>\n",
       "      <td>0.298900</td>\n",
       "      <td>2.128976</td>\n",
       "      <td>0.019078</td>\n",
       "    </tr>\n",
       "    <tr>\n",
       "      <th>1</th>\n",
       "      <td>-0.676211</td>\n",
       "      <td>-0.045579</td>\n",
       "      <td>0.099061</td>\n",
       "      <td>1.864192</td>\n",
       "    </tr>\n",
       "    <tr>\n",
       "      <th>2</th>\n",
       "      <td>0.359895</td>\n",
       "      <td>0.371560</td>\n",
       "      <td>0.619825</td>\n",
       "      <td>0.750039</td>\n",
       "    </tr>\n",
       "    <tr>\n",
       "      <th>3</th>\n",
       "      <td>0.033002</td>\n",
       "      <td>0.069479</td>\n",
       "      <td>NaN</td>\n",
       "      <td>-1.785714</td>\n",
       "    </tr>\n",
       "    <tr>\n",
       "      <th>4</th>\n",
       "      <td>-0.102892</td>\n",
       "      <td>NaN</td>\n",
       "      <td>NaN</td>\n",
       "      <td>0.615264</td>\n",
       "    </tr>\n",
       "    <tr>\n",
       "      <th>5</th>\n",
       "      <td>-0.060178</td>\n",
       "      <td>NaN</td>\n",
       "      <td>NaN</td>\n",
       "      <td>NaN</td>\n",
       "    </tr>\n",
       "    <tr>\n",
       "      <th>6</th>\n",
       "      <td>0.047303</td>\n",
       "      <td>NaN</td>\n",
       "      <td>NaN</td>\n",
       "      <td>NaN</td>\n",
       "    </tr>\n",
       "    <tr>\n",
       "      <th>7</th>\n",
       "      <td>0.061066</td>\n",
       "      <td>NaN</td>\n",
       "      <td>NaN</td>\n",
       "      <td>NaN</td>\n",
       "    </tr>\n",
       "    <tr>\n",
       "      <th>8</th>\n",
       "      <td>0.198852</td>\n",
       "      <td>NaN</td>\n",
       "      <td>NaN</td>\n",
       "      <td>NaN</td>\n",
       "    </tr>\n",
       "    <tr>\n",
       "      <th>9</th>\n",
       "      <td>1.803935</td>\n",
       "      <td>NaN</td>\n",
       "      <td>NaN</td>\n",
       "      <td>NaN</td>\n",
       "    </tr>\n",
       "    <tr>\n",
       "      <th>10</th>\n",
       "      <td>0.056021</td>\n",
       "      <td>NaN</td>\n",
       "      <td>NaN</td>\n",
       "      <td>NaN</td>\n",
       "    </tr>\n",
       "    <tr>\n",
       "      <th>11</th>\n",
       "      <td>-0.189757</td>\n",
       "      <td>NaN</td>\n",
       "      <td>NaN</td>\n",
       "      <td>NaN</td>\n",
       "    </tr>\n",
       "    <tr>\n",
       "      <th>12</th>\n",
       "      <td>-0.103519</td>\n",
       "      <td>NaN</td>\n",
       "      <td>NaN</td>\n",
       "      <td>NaN</td>\n",
       "    </tr>\n",
       "    <tr>\n",
       "      <th>13</th>\n",
       "      <td>0.055073</td>\n",
       "      <td>NaN</td>\n",
       "      <td>NaN</td>\n",
       "      <td>NaN</td>\n",
       "    </tr>\n",
       "    <tr>\n",
       "      <th>14</th>\n",
       "      <td>-0.006882</td>\n",
       "      <td>NaN</td>\n",
       "      <td>NaN</td>\n",
       "      <td>NaN</td>\n",
       "    </tr>\n",
       "    <tr>\n",
       "      <th>15</th>\n",
       "      <td>0.287850</td>\n",
       "      <td>NaN</td>\n",
       "      <td>NaN</td>\n",
       "      <td>NaN</td>\n",
       "    </tr>\n",
       "    <tr>\n",
       "      <th>16</th>\n",
       "      <td>-0.053466</td>\n",
       "      <td>NaN</td>\n",
       "      <td>NaN</td>\n",
       "      <td>NaN</td>\n",
       "    </tr>\n",
       "    <tr>\n",
       "      <th>17</th>\n",
       "      <td>0.057149</td>\n",
       "      <td>NaN</td>\n",
       "      <td>NaN</td>\n",
       "      <td>NaN</td>\n",
       "    </tr>\n",
       "    <tr>\n",
       "      <th>18</th>\n",
       "      <td>0.181103</td>\n",
       "      <td>NaN</td>\n",
       "      <td>NaN</td>\n",
       "      <td>NaN</td>\n",
       "    </tr>\n",
       "    <tr>\n",
       "      <th>19</th>\n",
       "      <td>0.258484</td>\n",
       "      <td>NaN</td>\n",
       "      <td>NaN</td>\n",
       "      <td>NaN</td>\n",
       "    </tr>\n",
       "    <tr>\n",
       "      <th>20</th>\n",
       "      <td>0.263100</td>\n",
       "      <td>NaN</td>\n",
       "      <td>NaN</td>\n",
       "      <td>NaN</td>\n",
       "    </tr>\n",
       "    <tr>\n",
       "      <th>21</th>\n",
       "      <td>-0.249262</td>\n",
       "      <td>NaN</td>\n",
       "      <td>NaN</td>\n",
       "      <td>NaN</td>\n",
       "    </tr>\n",
       "    <tr>\n",
       "      <th>22</th>\n",
       "      <td>0.217652</td>\n",
       "      <td>NaN</td>\n",
       "      <td>NaN</td>\n",
       "      <td>NaN</td>\n",
       "    </tr>\n",
       "  </tbody>\n",
       "</table>\n",
       "</div>"
      ],
      "text/plain": [
       "         CA2   CA2_CA3       CA1   CA1_CA2\n",
       "0  -0.857201  0.298900  2.128976  0.019078\n",
       "1  -0.676211 -0.045579  0.099061  1.864192\n",
       "2   0.359895  0.371560  0.619825  0.750039\n",
       "3   0.033002  0.069479       NaN -1.785714\n",
       "4  -0.102892       NaN       NaN  0.615264\n",
       "5  -0.060178       NaN       NaN       NaN\n",
       "6   0.047303       NaN       NaN       NaN\n",
       "7   0.061066       NaN       NaN       NaN\n",
       "8   0.198852       NaN       NaN       NaN\n",
       "9   1.803935       NaN       NaN       NaN\n",
       "10  0.056021       NaN       NaN       NaN\n",
       "11 -0.189757       NaN       NaN       NaN\n",
       "12 -0.103519       NaN       NaN       NaN\n",
       "13  0.055073       NaN       NaN       NaN\n",
       "14 -0.006882       NaN       NaN       NaN\n",
       "15  0.287850       NaN       NaN       NaN\n",
       "16 -0.053466       NaN       NaN       NaN\n",
       "17  0.057149       NaN       NaN       NaN\n",
       "18  0.181103       NaN       NaN       NaN\n",
       "19  0.258484       NaN       NaN       NaN\n",
       "20  0.263100       NaN       NaN       NaN\n",
       "21 -0.249262       NaN       NaN       NaN\n",
       "22  0.217652       NaN       NaN       NaN"
      ]
     },
     "execution_count": 119,
     "metadata": {},
     "output_type": "execute_result"
    }
   ],
   "source": [
    "Peak_Reactivation_Strength"
   ]
  },
  {
   "cell_type": "code",
   "execution_count": 232,
   "id": "900e71ff-7ba0-4e5f-9b08-dc8966f5e58e",
   "metadata": {},
   "outputs": [
    {
     "data": {
      "image/png": "[encoded data removed]",
      "text/plain": [
       "<Figure size 500x500 with 1 Axes>"
      ]
     },
     "metadata": {},
     "output_type": "display_data"
    }
   ],
   "source": [
    "sns.catplot(data=Peak_Reactivation_Strength, jitter=True,  alpha=0.5)\n",
    "\n",
    "# Overlay with the means using pointplot\n",
    "#sns.pointplot(data=Peak_Reactivation_Strength, ci=None, markers=\"D\",  scale=1.5)\n",
    "\n",
    "# Customize the plot for better appearance\n",
    "plt.title(\"Peak Reactivation Strength after social experience\")\n",
    "plt.xlabel(\"Assemblies\")\n",
    "plt.ylabel(\"Peak Reactivation Strength\")\n",
    "plt.xticks()\n",
    "plt.grid(False)\n",
    "plt.tight_layout()\n",
    "\n",
    "plt.show()"
   ]
  },
  {
   "cell_type": "code",
   "execution_count": null,
   "id": "78dd7991-a08b-49fd-8763-6df6b72959be",
   "metadata": {},
   "outputs": [],
   "source": []
  }
 ],
 "metadata": {
  "kernelspec": {
   "display_name": "Python 3 (ipykernel)",
   "language": "python",
   "name": "python3"
  },
  "language_info": {
   "codemirror_mode": {
    "name": "ipython",
    "version": 3
   },
   "file_extension": ".py",
   "mimetype": "text/x-python",
   "name": "python",
   "nbconvert_exporter": "python",
   "pygments_lexer": "ipython3",
   "version": "3.10.14"
  }
 },
 "nbformat": 4,
 "nbformat_minor": 5
}
