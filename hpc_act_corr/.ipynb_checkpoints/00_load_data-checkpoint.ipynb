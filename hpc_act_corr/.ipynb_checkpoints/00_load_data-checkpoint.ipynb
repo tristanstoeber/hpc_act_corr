{
 "cells": [
  {
   "cell_type": "code",
   "execution_count": null,
   "id": "c745e421",
   "metadata": {},
   "outputs": [],
   "source": [
    "#example of loading data of ec012 in one session!"
   ]
  },
  {
   "cell_type": "code",
   "execution_count": 1,
   "id": "f5c83fb9-2211-430e-a67d-5fb5330a708f",
   "metadata": {},
   "outputs": [],
   "source": [
    "import numpy as np\n",
    "import sqlite3\n",
    "import pandas as pd\n",
    "import re\n",
    "import quantities as pq\n",
    "import xml.etree.ElementTree as et"
   ]
  },
  {
   "cell_type": "code",
   "execution_count": null,
   "id": "d7c88206",
   "metadata": {},
   "outputs": [],
   "source": []
  }
 ],
 "metadata": {
  "kernelspec": {
   "display_name": "Python 3 (ipykernel)",
   "language": "python",
   "name": "python3"
  },
  "language_info": {
   "codemirror_mode": {
    "name": "ipython",
    "version": 3
   },
   "file_extension": ".py",
   "mimetype": "text/x-python",
   "name": "python",
   "nbconvert_exporter": "python",
   "pygments_lexer": "ipython3",
   "version": "3.11.3"
  }
 },
 "nbformat": 4,
 "nbformat_minor": 5
}
